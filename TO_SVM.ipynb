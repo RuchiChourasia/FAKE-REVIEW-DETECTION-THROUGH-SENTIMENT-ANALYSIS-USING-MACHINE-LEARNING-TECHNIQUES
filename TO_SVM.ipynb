{
  "nbformat": 4,
  "nbformat_minor": 0,
  "metadata": {
    "colab": {
      "name": "TO_SVM.ipynb",
      "version": "0.3.2",
      "provenance": [],
      "collapsed_sections": []
    },
    "kernelspec": {
      "name": "python3",
      "display_name": "Python 3"
    },
    "accelerator": "TPU"
  },
  "cells": [
    {
      "metadata": {
        "id": "zoJPKXYPEabY",
        "colab_type": "text"
      },
      "cell_type": "markdown",
      "source": [
        "**Mounting to Google Colab**"
      ]
    },
    {
      "metadata": {
        "id": "CyIpr5YwZwGi",
        "colab_type": "code",
        "outputId": "f067d5d7-1d6e-45b2-bab2-ad01855a70f1",
        "colab": {
          "base_uri": "https://localhost:8080/",
          "height": 35
        }
      },
      "cell_type": "code",
      "source": [
        "from google.colab import drive\n",
        "drive.mount('/content/drive')"
      ],
      "execution_count": 1,
      "outputs": [
        {
          "output_type": "stream",
          "text": [
            "Drive already mounted at /content/drive; to attempt to forcibly remount, call drive.mount(\"/content/drive\", force_remount=True).\n"
          ],
          "name": "stdout"
        }
      ]
    },
    {
      "metadata": {
        "id": "7tFRgVKi_WVp",
        "colab_type": "text"
      },
      "cell_type": "markdown",
      "source": [
        "**Import All Required Packages**"
      ]
    },
    {
      "metadata": {
        "id": "RuNPM8hvZlrM",
        "colab_type": "code",
        "outputId": "95c19f37-4607-4cc1-bf1a-8d00c80d47b6",
        "colab": {
          "base_uri": "https://localhost:8080/",
          "height": 90
        }
      },
      "cell_type": "code",
      "source": [
        "import csv\n",
        "import pandas as pd\n",
        "import numpy as np\n",
        "# used for encoding\n",
        "import chardet\n",
        "# natural language toolkit\n",
        "import nltk\n",
        "# wordnet is the database of English language\n",
        "nltk.download('wordnet')\n",
        "# stopwords for removing it from review\n",
        "from nltk.corpus import stopwords\n",
        "nltk.download('stopwords')\n",
        "##from nltk.tokenize import RegexpTokenizer\n",
        "from nltk.stem import WordNetLemmatizer\n",
        "# ngrams used for bigram input\n",
        "from nltk.util import ngrams\n",
        "import string\n",
        "import math\n",
        "# importing Linear SVM Classifier \n",
        "from sklearn.svm import LinearSVC\n",
        "from nltk.classify import SklearnClassifier\n",
        "from sklearn.pipeline import Pipeline\n",
        "# evaluation measures\n",
        "from sklearn.metrics import precision_recall_fscore_support\n",
        "from sklearn.metrics import accuracy_score\n",
        "# for plots and visualizations\n",
        "import matplotlib.pyplot as plt; plt.rcdefaults()\n",
        "import matplotlib.pyplot as plt\n",
        "\n",
        "import warnings\n",
        "warnings.filterwarnings(\"ignore\")"
      ],
      "execution_count": 2,
      "outputs": [
        {
          "output_type": "stream",
          "text": [
            "[nltk_data] Downloading package wordnet to /root/nltk_data...\n",
            "[nltk_data]   Package wordnet is already up-to-date!\n",
            "[nltk_data] Downloading package stopwords to /root/nltk_data...\n",
            "[nltk_data]   Package stopwords is already up-to-date!\n"
          ],
          "name": "stdout"
        }
      ]
    },
    {
      "metadata": {
        "id": "jUAERBpsZlrV",
        "colab_type": "code",
        "colab": {}
      },
      "cell_type": "code",
      "source": [
        "#universal variable declaration\n",
        "dataset=[]\n",
        "trainData=[]\n",
        "testData=[]\n",
        "trainData_label=[]\n",
        "testData_label=[]\n",
        "\n",
        "# variable declaration for All the feature input\n",
        "trainDataAll=[]\n",
        "testDataAll=[]\n",
        "trainData_labelAll=[]\n",
        "testData_labelAll=[]\n",
        "\n",
        "# for removal of punctuation words\n",
        "table = str.maketrans({key: None for key in string.punctuation})\n",
        "\n",
        "# Label list\n",
        "label=[]\n",
        "\n",
        "tfs = {}      # term frequency\n",
        "#tfids = {}    #\n",
        "tfidf = {}    # term frequency Inverse document frequency\n",
        "\n",
        "tfs_test = {}    # term frequency for test data\n",
        "#tfids_test = {}\n",
        "tfidf_test = {}  # term frequency Inverse document frequency for test data\n",
        "\n",
        "featureDict = {}         # A global dictionary of features\n",
        "featureDict_test = {}    # A global dictionary of All features"
      ],
      "execution_count": 0,
      "outputs": []
    },
    {
      "metadata": {
        "id": "R-NtngKrxwV8",
        "colab_type": "text"
      },
      "cell_type": "markdown",
      "source": [
        "**IMPORT DATASET  **"
      ]
    },
    {
      "metadata": {
        "id": "Aub6OQ7EZlra",
        "colab_type": "code",
        "outputId": "ad6bdc4f-aa49-41a3-cdd6-5a7668df17a9",
        "colab": {
          "base_uri": "https://localhost:8080/",
          "height": 354
        }
      },
      "cell_type": "code",
      "source": [
        "df = pd.read_csv(r\"/content/drive/My Drive/Colab Notebooks/amazon_data.csv\", encoding='Latin-1')\n",
        "df = df.sample(frac=1).reset_index(drop=True)\n",
        "\n",
        "# Replace the Labels with FAKE and REAL\n",
        "df = df.replace({'LABEL': {'__label1__':'FAKE' , '__label2__':'REAL'}})\n",
        "\n",
        "display(df.head())\n",
        "label=df['LABEL'].tolist()\n",
        "\n",
        "# Drop the LABEL\n",
        "#df=df.drop('LABEL',axis=1)\n",
        "#row,col = df.shape\n"
      ],
      "execution_count": 4,
      "outputs": [
        {
          "output_type": "display_data",
          "data": {
            "text/html": [
              "<div>\n",
              "<style scoped>\n",
              "    .dataframe tbody tr th:only-of-type {\n",
              "        vertical-align: middle;\n",
              "    }\n",
              "\n",
              "    .dataframe tbody tr th {\n",
              "        vertical-align: top;\n",
              "    }\n",
              "\n",
              "    .dataframe thead th {\n",
              "        text-align: right;\n",
              "    }\n",
              "</style>\n",
              "<table border=\"1\" class=\"dataframe\">\n",
              "  <thead>\n",
              "    <tr style=\"text-align: right;\">\n",
              "      <th></th>\n",
              "      <th>DOC_ID</th>\n",
              "      <th>LABEL</th>\n",
              "      <th>RATING</th>\n",
              "      <th>VERIFIED_PURCHASE</th>\n",
              "      <th>PRODUCT_CATEGORY</th>\n",
              "      <th>PRODUCT_ID</th>\n",
              "      <th>PRODUCT_TITLE</th>\n",
              "      <th>REVIEW_TITLE</th>\n",
              "      <th>REVIEW_TEXT</th>\n",
              "    </tr>\n",
              "  </thead>\n",
              "  <tbody>\n",
              "    <tr>\n",
              "      <th>0</th>\n",
              "      <td>1554</td>\n",
              "      <td>FAKE</td>\n",
              "      <td>2</td>\n",
              "      <td>N</td>\n",
              "      <td>Electronics</td>\n",
              "      <td>B000PCEFXQ</td>\n",
              "      <td>Sony MDRRF970RK Wireless Stereo Headphones (Di...</td>\n",
              "      <td>it hissed and popped.</td>\n",
              "      <td>The headsets never worked well at my computer,...</td>\n",
              "    </tr>\n",
              "    <tr>\n",
              "      <th>1</th>\n",
              "      <td>19463</td>\n",
              "      <td>REAL</td>\n",
              "      <td>5</td>\n",
              "      <td>Y</td>\n",
              "      <td>Office Products</td>\n",
              "      <td>B001GAOTXC</td>\n",
              "      <td>Pilot Varsity Disposable Fountain Pens, Black ...</td>\n",
              "      <td>Only pen I will use!</td>\n",
              "      <td>I am very particular about the pens that I use...</td>\n",
              "    </tr>\n",
              "    <tr>\n",
              "      <th>2</th>\n",
              "      <td>8819</td>\n",
              "      <td>FAKE</td>\n",
              "      <td>5</td>\n",
              "      <td>N</td>\n",
              "      <td>Camera</td>\n",
              "      <td>B008RW6RGE</td>\n",
              "      <td>VANGUARD Abeo Plus 323AB Tripod with BBH-200 P...</td>\n",
              "      <td>Vanguard is a Company with Photographers on Th...</td>\n",
              "      <td>I've owned, used and abused, several tripods i...</td>\n",
              "    </tr>\n",
              "    <tr>\n",
              "      <th>3</th>\n",
              "      <td>20798</td>\n",
              "      <td>REAL</td>\n",
              "      <td>5</td>\n",
              "      <td>Y</td>\n",
              "      <td>Jewelry</td>\n",
              "      <td>B00PJIO5PO</td>\n",
              "      <td>White Daisy Flower Cluster Bib Pendant Golden ...</td>\n",
              "      <td>LOVE this necklace</td>\n",
              "      <td>LOVE this necklace!!! Very good quality! Nice ...</td>\n",
              "    </tr>\n",
              "    <tr>\n",
              "      <th>4</th>\n",
              "      <td>2310</td>\n",
              "      <td>FAKE</td>\n",
              "      <td>3</td>\n",
              "      <td>N</td>\n",
              "      <td>Tools</td>\n",
              "      <td>B000OWAYVY</td>\n",
              "      <td>IIT 90690 Super Glue, 3 Grams Each, 5-Pack</td>\n",
              "      <td>Ok buttt</td>\n",
              "      <td>This glue set does stick and gets very strong ...</td>\n",
              "    </tr>\n",
              "  </tbody>\n",
              "</table>\n",
              "</div>"
            ],
            "text/plain": [
              "   DOC_ID LABEL  RATING VERIFIED_PURCHASE PRODUCT_CATEGORY  PRODUCT_ID  \\\n",
              "0    1554  FAKE       2                 N      Electronics  B000PCEFXQ   \n",
              "1   19463  REAL       5                 Y  Office Products  B001GAOTXC   \n",
              "2    8819  FAKE       5                 N           Camera  B008RW6RGE   \n",
              "3   20798  REAL       5                 Y          Jewelry  B00PJIO5PO   \n",
              "4    2310  FAKE       3                 N            Tools  B000OWAYVY   \n",
              "\n",
              "                                       PRODUCT_TITLE  \\\n",
              "0  Sony MDRRF970RK Wireless Stereo Headphones (Di...   \n",
              "1  Pilot Varsity Disposable Fountain Pens, Black ...   \n",
              "2  VANGUARD Abeo Plus 323AB Tripod with BBH-200 P...   \n",
              "3  White Daisy Flower Cluster Bib Pendant Golden ...   \n",
              "4         IIT 90690 Super Glue, 3 Grams Each, 5-Pack   \n",
              "\n",
              "                                        REVIEW_TITLE  \\\n",
              "0                              it hissed and popped.   \n",
              "1                               Only pen I will use!   \n",
              "2  Vanguard is a Company with Photographers on Th...   \n",
              "3                                 LOVE this necklace   \n",
              "4                                           Ok buttt   \n",
              "\n",
              "                                         REVIEW_TEXT  \n",
              "0  The headsets never worked well at my computer,...  \n",
              "1  I am very particular about the pens that I use...  \n",
              "2  I've owned, used and abused, several tripods i...  \n",
              "3  LOVE this necklace!!! Very good quality! Nice ...  \n",
              "4  This glue set does stick and gets very strong ...  "
            ]
          },
          "metadata": {
            "tags": []
          }
        }
      ]
    },
    {
      "metadata": {
        "id": "_GTZAslQ_Bjf",
        "colab_type": "text"
      },
      "cell_type": "markdown",
      "source": [
        "**\n",
        "VISUALIZATION OF DATASET**"
      ]
    },
    {
      "metadata": {
        "id": "uVFvEce7--_6",
        "colab_type": "code",
        "outputId": "b266fc75-244b-46d6-e32d-8e1ef5cfa03e",
        "colab": {
          "base_uri": "https://localhost:8080/",
          "height": 487
        }
      },
      "cell_type": "code",
      "source": [
        "count_real=0\n",
        "count_fake=0\n",
        "for x in label:\n",
        "  if x == 'REAL':\n",
        "    count_real +=1\n",
        "  else:\n",
        "    count_fake +=1\n",
        "\n",
        "count_rf=[count_real,count_fake] \n",
        "# Data to plot\n",
        "labelss = 'REAL', 'FAKE'\n",
        "labelss1=count_real,count_fake\n",
        "\n",
        "colors = ['lightskyblue','yellowgreen']\n",
        "explode = (0.1, 0)  # explode 1st slice\n",
        " \n",
        "\n",
        "plt.pie(count_rf, explode=explode, labels=labelss1, colors=colors,autopct='%1.1f%%', shadow=True, startangle=140)\n",
        "plt.axis('equal')\n",
        "plt.legend(labelss)\n",
        "plt.tight_layout()\n",
        "plt.show()\n"
      ],
      "execution_count": 5,
      "outputs": [
        {
          "output_type": "display_data",
          "data": {
            "image/png": "[encoded data removed]",
            "text/plain": [
              "<Figure size 640x480 with 1 Axes>"
            ]
          },
          "metadata": {
            "tags": []
          }
        }
      ]
    },
    {
      "metadata": {
        "id": "BYqe3bM2_zue",
        "colab_type": "text"
      },
      "cell_type": "markdown",
      "source": [
        "**PARSE DATASET AND EXTRACT ESSENTIAL FEATURES FROM IT**\n"
      ]
    },
    {
      "metadata": {
        "id": "cYh6I9qLC_Ad",
        "colab_type": "text"
      },
      "cell_type": "markdown",
      "source": [
        "**Function for Parsing Only Review Text**"
      ]
    },
    {
      "metadata": {
        "id": "WuX-NaUwZlrh",
        "colab_type": "code",
        "colab": {}
      },
      "cell_type": "code",
      "source": [
        "def parse(review):\n",
        "    return (review[7])\n"
      ],
      "execution_count": 0,
      "outputs": []
    },
    {
      "metadata": {
        "id": "5vusP1gE_6M8",
        "colab_type": "text"
      },
      "cell_type": "markdown",
      "source": [
        "**Function for Parsing Rating, Verified Purchase, Product Category, Review Title and Review Text **"
      ]
    },
    {
      "metadata": {
        "id": "o5Ur5AU_lB73",
        "colab_type": "code",
        "colab": {}
      },
      "cell_type": "code",
      "source": [
        "def parseAll(review):\n",
        "  return (review[2],review[3],review[4],review[8],review[1])"
      ],
      "execution_count": 0,
      "outputs": []
    },
    {
      "metadata": {
        "id": "xu34IfTHAvw2",
        "colab_type": "text"
      },
      "cell_type": "markdown",
      "source": [
        "**TEXT PREPROCESSING**"
      ]
    },
    {
      "metadata": {
        "id": "VE87otXIZlrn",
        "colab_type": "code",
        "colab": {}
      },
      "cell_type": "code",
      "source": [
        "def preprocess(text):\n",
        "    lemmatizer = WordNetLemmatizer()\n",
        "    filtered_tokens=[]\n",
        "    lemmatized_tokens = []\n",
        "    stop_words = set(stopwords.words('english'))\n",
        "    text = text.translate(table) # translation of text is done here punctuations are replaced with none\n",
        "    for w in text.split(\" \"):\n",
        "        if w not in stop_words:\n",
        "            lemmatized_tokens.append(lemmatizer.lemmatize(w.lower()))\n",
        "  \n",
        "    return lemmatized_tokens \n",
        "    "
      ],
      "execution_count": 0,
      "outputs": []
    },
    {
      "metadata": {
        "id": "n7mOFCBfCa2x",
        "colab_type": "text"
      },
      "cell_type": "markdown",
      "source": [
        "**FUNCTION FOR CONVERTING IN TO VECTOR**"
      ]
    },
    {
      "metadata": {
        "id": "nD7RUMdWjFZr",
        "colab_type": "code",
        "colab": {}
      },
      "cell_type": "code",
      "source": [
        "def toFeatureVector(Rating, verified_Purchase, product_Category, tokens):\n",
        "    localDict = {}\n",
        "    \n",
        "#Rating\n",
        "\n",
        "    #print(Rating)\n",
        "    featureDict[\"R\"] = 1   \n",
        "    localDict[\"R\"] = Rating\n",
        "\n",
        "#Verified_Purchase\n",
        "  \n",
        "    featureDict[\"VP\"] = 1\n",
        "            \n",
        "    if verified_Purchase == \"N\":\n",
        "        localDict[\"VP\"] = 0\n",
        "    else:\n",
        "        localDict[\"VP\"] = 1\n",
        "\n",
        "#Product_Category\n",
        "\n",
        "    \n",
        "    if product_Category not in featureDict:\n",
        "        featureDict[product_Category] = 1\n",
        "    else:\n",
        "        featureDict[product_Category] = +1\n",
        "            \n",
        "    if product_Category not in localDict:\n",
        "        localDict[product_Category] = 1\n",
        "    else:\n",
        "        localDict[product_Category] = +1\n",
        "            \n",
        "            \n",
        "#Text        \n",
        "\n",
        "    for token in tokens:\n",
        "        if token not in featureDict:\n",
        "            featureDict[token] = 1\n",
        "        else:\n",
        "            featureDict[token] = +1\n",
        "            \n",
        "        if token not in localDict:\n",
        "            localDict[token] = 1\n",
        "        else:\n",
        "            localDict[token] = +1\n",
        "    \n",
        "    return localDict\n"
      ],
      "execution_count": 0,
      "outputs": []
    },
    {
      "metadata": {
        "id": "vph4bC10IVgT",
        "colab_type": "text"
      },
      "cell_type": "markdown",
      "source": [
        "**DATA SET IN LIST FORM WITH THE DESIRED INPUTS**"
      ]
    },
    {
      "metadata": {
        "id": "cGCVA0e6ZlsA",
        "colab_type": "code",
        "colab": {}
      },
      "cell_type": "code",
      "source": [
        "dataset1 = list(df.values)\n",
        "rawData = []\n",
        "r,c = df.shape\n",
        "length=len(df)\n",
        "length\n",
        "for i in range(length):\n",
        "  \n",
        "  ( Rating, verified_Purchase, product_Category, Text, Label) = parseAll(dataset1[i])\n",
        "  rawData.append(( Rating, verified_Purchase, product_Category, Text, Label))\n",
        "  \n",
        "dataset= rawData\n"
      ],
      "execution_count": 0,
      "outputs": []
    },
    {
      "metadata": {
        "id": "nvmlQY2DJktV",
        "colab_type": "text"
      },
      "cell_type": "markdown",
      "source": [
        "**SPLIT Function for All types of Feature Input**"
      ]
    },
    {
      "metadata": {
        "id": "r6a9JJyNP1ms",
        "colab_type": "code",
        "colab": {}
      },
      "cell_type": "code",
      "source": [
        "def split(percent):\n",
        "    dataSamples = len(dataset)\n",
        "    halfOfData = int(len(dataset)/2)\n",
        "    trainingSamples = int((percent*dataSamples)/2)\n",
        "    \n",
        "  \n",
        "    for (Rating, verified_Purchase, product_Category, Text, Label) in dataset[:trainingSamples] + dataset[halfOfData:halfOfData+trainingSamples]:\n",
        "        trainData.append((toFeatureVector(Rating, verified_Purchase, product_Category, preprocess(Text)),Label))\n",
        "    for ( Rating, verified_Purchase, product_Category, Text, Label) in dataset[trainingSamples:halfOfData] + dataset[halfOfData+trainingSamples:]:\n",
        "        testData.append((toFeatureVector(Rating, verified_Purchase, product_Category, preprocess(Text)),Label))\n",
        "   "
      ],
      "execution_count": 0,
      "outputs": []
    },
    {
      "metadata": {
        "id": "OrJ8s93P9wds",
        "colab_type": "text"
      },
      "cell_type": "markdown",
      "source": [
        "**TRAINING CLASSIFIER FUNCTION USING LINEAR SVM**"
      ]
    },
    {
      "metadata": {
        "id": "Ncai1h1_Zlsn",
        "colab_type": "code",
        "colab": {}
      },
      "cell_type": "code",
      "source": [
        "def trainClassifier(trainclassifier):\n",
        "    print(\"Training Classifier\")\n",
        "    pipeline =  Pipeline([('svc', LinearSVC())])\n",
        "    return SklearnClassifier(pipeline).train(trainclassifier)"
      ],
      "execution_count": 0,
      "outputs": []
    },
    {
      "metadata": {
        "colab_type": "text",
        "id": "bUgXT9oT8aQz"
      },
      "cell_type": "markdown",
      "source": [
        "**TRAINING CLASSIFIER FUNCTION USING LINEAR SVM**"
      ]
    },
    {
      "metadata": {
        "id": "wdpdtRg0Uyvy",
        "colab_type": "code",
        "colab": {}
      },
      "cell_type": "code",
      "source": [
        "def crossValidate(dataset_cv, folds):\n",
        "    cv_results = []\n",
        "    foldSize = int(len(dataset_cv)/folds)\n",
        "    for i in range(0,len(dataset_cv),foldSize):\n",
        "        classifier = trainClassifier(dataset_cv[:i]+dataset_cv[foldSize+i:])\n",
        "        y_pred = predictLabels(dataset_cv[i:i+foldSize],classifier)\n",
        "        a = accuracy_score(list(map(lambda d : d[1], dataset_cv[i:i+foldSize])), y_pred)\n",
        "        (p,r,f,_) = precision_recall_fscore_support(list(map(lambda d : d[1], dataset_cv[i:i+foldSize])), y_pred, average ='macro')\n",
        "        #print(a,p,r,f)\n",
        "        cv_results.append((a,p,r,f))\n",
        "    cv_results = (np.mean(np.array(cv_results),axis=0))\n",
        "    return cv_results"
      ],
      "execution_count": 0,
      "outputs": []
    },
    {
      "metadata": {
        "colab_type": "text",
        "id": "VQYt0DHF8dP1"
      },
      "cell_type": "markdown",
      "source": [
        "**TRAINING CLASSIFIER FUNCTION USING LINEAR SVM**"
      ]
    },
    {
      "metadata": {
        "id": "4du4lDisZlry",
        "colab_type": "code",
        "colab": {}
      },
      "cell_type": "code",
      "source": [
        "def predictLabels(reviewSamples, classifier1):\n",
        "    return classifier1.classify_many(map(lambda t: t[0], reviewSamples))\n",
        "\n"
      ],
      "execution_count": 0,
      "outputs": []
    },
    {
      "metadata": {
        "id": "39OozcS6Ixos",
        "colab_type": "text"
      },
      "cell_type": "markdown",
      "source": [
        "**SPLIT FUNCTION CALLED**"
      ]
    },
    {
      "metadata": {
        "id": "dymfvRkWZlr4",
        "colab_type": "code",
        "colab": {}
      },
      "cell_type": "code",
      "source": [
        "split(0.80)"
      ],
      "execution_count": 0,
      "outputs": []
    },
    {
      "metadata": {
        "id": "8FRb00EeI12p",
        "colab_type": "text"
      },
      "cell_type": "markdown",
      "source": [
        "**CROSS-VALIDATE CALLED **"
      ]
    },
    {
      "metadata": {
        "id": "NNlxUNkPVBNJ",
        "colab_type": "code",
        "outputId": "9662a525-1258-4609-ac16-b26f7b0d82de",
        "colab": {
          "base_uri": "https://localhost:8080/",
          "height": 308
        }
      },
      "cell_type": "code",
      "source": [
        "# Fold = 10\n",
        "\n",
        "print(\"Now %d rawData, %d trainData, %d testData\" % (len(dataset), len(trainData), len(testData)),\n",
        "               \"Training Samples: \", len(dataset), \"Features: \", len(featureDict), sep='\\n')\n",
        "CV_RES = crossValidate(trainData, 10)\n",
        "print(\"Mean of cross-validations (Accuracy, Precision, Recall, Fscore): \", CV_RES)"
      ],
      "execution_count": 16,
      "outputs": [
        {
          "output_type": "stream",
          "text": [
            "Now 21000 rawData, 16800 trainData, 4200 testData\n",
            "Training Samples: \n",
            "21000\n",
            "Features: \n",
            "42384\n",
            "Training Classifier\n",
            "Training Classifier\n",
            "Training Classifier\n",
            "Training Classifier\n",
            "Training Classifier\n",
            "Training Classifier\n",
            "Training Classifier\n",
            "Training Classifier\n",
            "Training Classifier\n",
            "Training Classifier\n",
            "Mean of cross-validations (Accuracy, Precision, Recall, Fscore):  [0.75767857 0.75744025 0.75744354 0.75738744]\n"
          ],
          "name": "stdout"
        }
      ]
    },
    {
      "metadata": {
        "colab_type": "text",
        "id": "vDbkQ59yK2UP"
      },
      "cell_type": "markdown",
      "source": [
        "**VISUALIZATION OF CROSS-VALIDATION WITH 10 FOLDS**"
      ]
    },
    {
      "metadata": {
        "id": "rEX9Kv6ZKjkI",
        "colab_type": "code",
        "outputId": "b771d9dd-8b73-4de9-9736-5e62f8157913",
        "colab": {
          "base_uri": "https://localhost:8080/",
          "height": 453
        }
      },
      "cell_type": "code",
      "source": [
        "objects = ('Accuracy', 'Precision', 'Recall', 'F1_score')\n",
        "\n",
        "performance = CV_RES\n",
        "bar_width=0.3\n",
        "rects1 = plt.bar(objects, performance,bar_width ,alpha=0.8,color='b',)\n",
        " \n",
        "plt.xticks(objects, objects)\n",
        "plt.ylabel('Score')\n",
        "plt.title('Evaluation 10 fold Cross Validation on Training Dataset ')\n",
        "\n",
        "\n",
        "plt.show()"
      ],
      "execution_count": 17,
      "outputs": [
        {
          "output_type": "display_data",
          "data": {
            "image/png": "[encoded data removed]",
            "text/plain": [
              "<Figure size 640x480 with 1 Axes>"
            ]
          },
          "metadata": {
            "tags": []
          }
        }
      ]
    },
    {
      "metadata": {
        "colab_type": "text",
        "id": "6G1Dr5aK9bYW"
      },
      "cell_type": "markdown",
      "source": [
        "**TESTING ACCURACY USING TEST SET**"
      ]
    },
    {
      "metadata": {
        "id": "wCXQLAasshOc",
        "colab_type": "code",
        "outputId": "1f1b620c-6009-4859-f521-38aeb1a2d8f1",
        "colab": {
          "base_uri": "https://localhost:8080/",
          "height": 108
        }
      },
      "cell_type": "code",
      "source": [
        "## Test Accuracy\n",
        "classifier = trainClassifier(trainData)\n",
        "predictions = predictLabels(testData, classifier)\n",
        "true_labels = list(map(lambda d: d[1], testData))\n",
        "a = accuracy_score(true_labels, predictions)\n",
        "p, r, f1, _ = precision_recall_fscore_support(true_labels, predictions, average='macro')\n",
        "print(\"accuracy: \", a)\n",
        "print(\"Precision: \", p)\n",
        "print(\"Recall: \", r)\n",
        "print(\"f1-score: \", f1)\n",
        "\n",
        "TEST_RES = [a,p,r,f1]"
      ],
      "execution_count": 18,
      "outputs": [
        {
          "output_type": "stream",
          "text": [
            "Training Classifier\n",
            "accuracy:  0.76\n",
            "Precision:  0.7601476517102264\n",
            "Recall:  0.759994276642693\n",
            "f1-score:  0.7599632052441598\n"
          ],
          "name": "stdout"
        }
      ]
    },
    {
      "metadata": {
        "id": "-uUPaLdpBMel",
        "colab_type": "text"
      },
      "cell_type": "markdown",
      "source": [
        "**VISUALIZATION OF PREDICTION RESULT ON TEST DATA SET**"
      ]
    },
    {
      "metadata": {
        "id": "VsQSKCZ4KV9N",
        "colab_type": "code",
        "outputId": "138830eb-9374-4449-a19f-10e74fbb1f2b",
        "colab": {
          "base_uri": "https://localhost:8080/",
          "height": 453
        }
      },
      "cell_type": "code",
      "source": [
        "objects = ('Accuracy', 'Precision', 'Recall', 'F1_score')\n",
        "\n",
        "performance = TEST_RES\n",
        "bar_width=0.3\n",
        "rects1 = plt.bar(objects, performance,bar_width ,alpha=0.8,color='b',)\n",
        " \n",
        "\n",
        "plt.xticks(objects, objects)\n",
        "plt.ylabel('Score')\n",
        "plt.title('Evaluation of Test Data ')\n",
        "\n",
        "\n",
        "plt.show()"
      ],
      "execution_count": 19,
      "outputs": [
        {
          "output_type": "display_data",
          "data": {
            "image/png": "[encoded data removed]",
            "text/plain": [
              "<Figure size 640x480 with 1 Axes>"
            ]
          },
          "metadata": {
            "tags": []
          }
        }
      ]
    }
  ]
}