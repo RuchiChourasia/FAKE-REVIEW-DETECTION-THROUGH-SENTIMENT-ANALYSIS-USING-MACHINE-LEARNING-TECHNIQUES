{
  "nbformat": 4,
  "nbformat_minor": 0,
  "metadata": {
    "colab": {
      "name": "TO_SVM_BIGRAM.ipynb",
      "version": "0.3.2",
      "provenance": [],
      "collapsed_sections": []
    },
    "kernelspec": {
      "name": "python3",
      "display_name": "Python 3"
    },
    "accelerator": "TPU"
  },
  "cells": [
    {
      "metadata": {
        "id": "zoJPKXYPEabY",
        "colab_type": "text"
      },
      "cell_type": "markdown",
      "source": [
        "**Mounting to Google Colab**"
      ]
    },
    {
      "metadata": {
        "id": "CyIpr5YwZwGi",
        "colab_type": "code",
        "outputId": "05345619-47a7-4e5c-9776-63d70db6b313",
        "colab": {
          "base_uri": "https://localhost:8080/",
          "height": 35
        }
      },
      "cell_type": "code",
      "source": [
        "from google.colab import drive\n",
        "drive.mount('/content/drive')"
      ],
      "execution_count": 1,
      "outputs": [
        {
          "output_type": "stream",
          "text": [
            "Drive already mounted at /content/drive; to attempt to forcibly remount, call drive.mount(\"/content/drive\", force_remount=True).\n"
          ],
          "name": "stdout"
        }
      ]
    },
    {
      "metadata": {
        "id": "7tFRgVKi_WVp",
        "colab_type": "text"
      },
      "cell_type": "markdown",
      "source": [
        "**Import All Required Packages**"
      ]
    },
    {
      "metadata": {
        "id": "RuNPM8hvZlrM",
        "colab_type": "code",
        "outputId": "b27a9334-89a6-4f5c-ab67-3f47d9b0af43",
        "colab": {
          "base_uri": "https://localhost:8080/",
          "height": 90
        }
      },
      "cell_type": "code",
      "source": [
        "import csv\n",
        "import pandas as pd\n",
        "import numpy as np\n",
        "# used for encoding\n",
        "import chardet\n",
        "# natural language toolkit\n",
        "import nltk\n",
        "# wordnet is the database of English language\n",
        "nltk.download('wordnet')\n",
        "# stopwords for removing it from review\n",
        "from nltk.corpus import stopwords\n",
        "nltk.download('stopwords')\n",
        "##from nltk.tokenize import RegexpTokenizer\n",
        "from nltk.stem import WordNetLemmatizer\n",
        "# ngrams used for bigram input\n",
        "from nltk.util import ngrams\n",
        "import string\n",
        "import math\n",
        "# importing Linear SVM Classifier \n",
        "from sklearn.svm import LinearSVC\n",
        "from nltk.classify import SklearnClassifier\n",
        "from sklearn.pipeline import Pipeline\n",
        "# evaluation measures\n",
        "from sklearn.metrics import precision_recall_fscore_support\n",
        "from sklearn.metrics import accuracy_score\n",
        "# for plots and visualizations\n",
        "import matplotlib.pyplot as plt; plt.rcdefaults()\n",
        "import matplotlib.pyplot as plt\n",
        "\n",
        "import warnings\n",
        "warnings.filterwarnings(\"ignore\")"
      ],
      "execution_count": 2,
      "outputs": [
        {
          "output_type": "stream",
          "text": [
            "[nltk_data] Downloading package wordnet to /root/nltk_data...\n",
            "[nltk_data]   Package wordnet is already up-to-date!\n",
            "[nltk_data] Downloading package stopwords to /root/nltk_data...\n",
            "[nltk_data]   Package stopwords is already up-to-date!\n"
          ],
          "name": "stdout"
        }
      ]
    },
    {
      "metadata": {
        "id": "jUAERBpsZlrV",
        "colab_type": "code",
        "colab": {}
      },
      "cell_type": "code",
      "source": [
        "#universal variable declaration\n",
        "dataset=[]\n",
        "trainData=[]\n",
        "testData=[]\n",
        "trainData_label=[]\n",
        "testData_label=[]\n",
        "\n",
        "# variable declaration for All the feature input\n",
        "trainDataAll=[]\n",
        "testDataAll=[]\n",
        "trainData_labelAll=[]\n",
        "testData_labelAll=[]\n",
        "\n",
        "# for removal of punctuation words\n",
        "table = str.maketrans({key: None for key in string.punctuation})\n",
        "\n",
        "# Label list\n",
        "label=[]\n",
        "\n",
        "tfs = {}      # term frequency\n",
        "#tfids = {}    #\n",
        "tfidf = {}    # term frequency Inverse document frequency\n",
        "\n",
        "tfs_test = {}    # term frequency for test data\n",
        "#tfids_test = {}\n",
        "tfidf_test = {}  # term frequency Inverse document frequency for test data\n",
        "\n",
        "featureDict = {}         # A global dictionary of features\n",
        "featureDict_test = {}    # A global dictionary of All features"
      ],
      "execution_count": 0,
      "outputs": []
    },
    {
      "metadata": {
        "id": "R-NtngKrxwV8",
        "colab_type": "text"
      },
      "cell_type": "markdown",
      "source": [
        "**IMPORT DATASET  **"
      ]
    },
    {
      "metadata": {
        "id": "Aub6OQ7EZlra",
        "colab_type": "code",
        "outputId": "509cb65e-1bae-437c-8448-08fcbc899aa8",
        "colab": {
          "base_uri": "https://localhost:8080/",
          "height": 336
        }
      },
      "cell_type": "code",
      "source": [
        "df = pd.read_csv(r\"/content/drive/My Drive/Colab Notebooks/amazon_data.csv\", encoding='Latin-1')\n",
        "df = df.sample(frac=1).reset_index(drop=True)\n",
        "\n",
        "# Replace the Labels with FAKE and REAL\n",
        "df = df.replace({'LABEL': {'__label1__':'FAKE' , '__label2__':'REAL'}})\n",
        "\n",
        "display(df.head())\n",
        "label=df['LABEL'].tolist()\n",
        "\n",
        "# Drop the LABEL\n",
        "#df=df.drop('LABEL',axis=1)\n",
        "#row,col = df.shape\n"
      ],
      "execution_count": 4,
      "outputs": [
        {
          "output_type": "display_data",
          "data": {
            "text/html": [
              "<div>\n",
              "<style scoped>\n",
              "    .dataframe tbody tr th:only-of-type {\n",
              "        vertical-align: middle;\n",
              "    }\n",
              "\n",
              "    .dataframe tbody tr th {\n",
              "        vertical-align: top;\n",
              "    }\n",
              "\n",
              "    .dataframe thead th {\n",
              "        text-align: right;\n",
              "    }\n",
              "</style>\n",
              "<table border=\"1\" class=\"dataframe\">\n",
              "  <thead>\n",
              "    <tr style=\"text-align: right;\">\n",
              "      <th></th>\n",
              "      <th>DOC_ID</th>\n",
              "      <th>LABEL</th>\n",
              "      <th>RATING</th>\n",
              "      <th>VERIFIED_PURCHASE</th>\n",
              "      <th>PRODUCT_CATEGORY</th>\n",
              "      <th>PRODUCT_ID</th>\n",
              "      <th>PRODUCT_TITLE</th>\n",
              "      <th>REVIEW_TITLE</th>\n",
              "      <th>REVIEW_TEXT</th>\n",
              "    </tr>\n",
              "  </thead>\n",
              "  <tbody>\n",
              "    <tr>\n",
              "      <th>0</th>\n",
              "      <td>2907</td>\n",
              "      <td>FAKE</td>\n",
              "      <td>4</td>\n",
              "      <td>N</td>\n",
              "      <td>Watches</td>\n",
              "      <td>B000GAWSHM</td>\n",
              "      <td>Casio Men's MQ24-1E Black Resin Watch</td>\n",
              "      <td>I love this watch</td>\n",
              "      <td>I love this watch. I just had one problem, it'...</td>\n",
              "    </tr>\n",
              "    <tr>\n",
              "      <th>1</th>\n",
              "      <td>19346</td>\n",
              "      <td>REAL</td>\n",
              "      <td>4</td>\n",
              "      <td>Y</td>\n",
              "      <td>Shoes</td>\n",
              "      <td>B003XE3H6O</td>\n",
              "      <td>crocs Women's Kadee Ballet Flat,Espresso/Espre...</td>\n",
              "      <td>Good purchase</td>\n",
              "      <td>I usually wear size 8.5 and I bought size 8 of...</td>\n",
              "    </tr>\n",
              "    <tr>\n",
              "      <th>2</th>\n",
              "      <td>15706</td>\n",
              "      <td>REAL</td>\n",
              "      <td>5</td>\n",
              "      <td>Y</td>\n",
              "      <td>Kitchen</td>\n",
              "      <td>B000PHGEM6</td>\n",
              "      <td>Hortense B. Hewitt Wedding Accessories Raindro...</td>\n",
              "      <td>Wedding flutes.</td>\n",
              "      <td>I liked it so much I might consider buying an ...</td>\n",
              "    </tr>\n",
              "    <tr>\n",
              "      <th>3</th>\n",
              "      <td>15480</td>\n",
              "      <td>REAL</td>\n",
              "      <td>4</td>\n",
              "      <td>Y</td>\n",
              "      <td>Musical Instruments</td>\n",
              "      <td>B002MA5LGE</td>\n",
              "      <td>Vento 901-VE5305I 500 Series Curved Soprano Sa...</td>\n",
              "      <td>Not professional quality, but perfect for my l...</td>\n",
              "      <td>I am a hobbyist saxophone player, playing in a...</td>\n",
              "    </tr>\n",
              "    <tr>\n",
              "      <th>4</th>\n",
              "      <td>4572</td>\n",
              "      <td>FAKE</td>\n",
              "      <td>5</td>\n",
              "      <td>Y</td>\n",
              "      <td>Beauty</td>\n",
              "      <td>B00SF458AK</td>\n",
              "      <td>Best Organic Sunless Tanning Lotion - Natural ...</td>\n",
              "      <td>Recommended.</td>\n",
              "      <td>I received this to review and I'm shocked at h...</td>\n",
              "    </tr>\n",
              "  </tbody>\n",
              "</table>\n",
              "</div>"
            ],
            "text/plain": [
              "   DOC_ID LABEL  RATING VERIFIED_PURCHASE     PRODUCT_CATEGORY  PRODUCT_ID  \\\n",
              "0    2907  FAKE       4                 N              Watches  B000GAWSHM   \n",
              "1   19346  REAL       4                 Y                Shoes  B003XE3H6O   \n",
              "2   15706  REAL       5                 Y              Kitchen  B000PHGEM6   \n",
              "3   15480  REAL       4                 Y  Musical Instruments  B002MA5LGE   \n",
              "4    4572  FAKE       5                 Y               Beauty  B00SF458AK   \n",
              "\n",
              "                                       PRODUCT_TITLE  \\\n",
              "0              Casio Men's MQ24-1E Black Resin Watch   \n",
              "1  crocs Women's Kadee Ballet Flat,Espresso/Espre...   \n",
              "2  Hortense B. Hewitt Wedding Accessories Raindro...   \n",
              "3  Vento 901-VE5305I 500 Series Curved Soprano Sa...   \n",
              "4  Best Organic Sunless Tanning Lotion - Natural ...   \n",
              "\n",
              "                                        REVIEW_TITLE  \\\n",
              "0                                  I love this watch   \n",
              "1                                      Good purchase   \n",
              "2                                    Wedding flutes.   \n",
              "3  Not professional quality, but perfect for my l...   \n",
              "4                                       Recommended.   \n",
              "\n",
              "                                         REVIEW_TEXT  \n",
              "0  I love this watch. I just had one problem, it'...  \n",
              "1  I usually wear size 8.5 and I bought size 8 of...  \n",
              "2  I liked it so much I might consider buying an ...  \n",
              "3  I am a hobbyist saxophone player, playing in a...  \n",
              "4  I received this to review and I'm shocked at h...  "
            ]
          },
          "metadata": {
            "tags": []
          }
        }
      ]
    },
    {
      "metadata": {
        "id": "_GTZAslQ_Bjf",
        "colab_type": "text"
      },
      "cell_type": "markdown",
      "source": [
        "**\n",
        "VISUALIZATION OF DATASET**"
      ]
    },
    {
      "metadata": {
        "id": "uVFvEce7--_6",
        "colab_type": "code",
        "colab": {
          "base_uri": "https://localhost:8080/",
          "height": 487
        },
        "outputId": "b737fbe0-ca12-47f3-e801-a665857ecc31"
      },
      "cell_type": "code",
      "source": [
        "count_real=0\n",
        "count_fake=0\n",
        "for x in label:\n",
        "  if x == 'REAL':\n",
        "    count_real +=1\n",
        "  else:\n",
        "    count_fake +=1\n",
        "\n",
        "count_rf=[count_real,count_fake] \n",
        "# Data to plot\n",
        "labelss = 'REAL', 'FAKE'\n",
        "labelss1=count_real,count_fake\n",
        "\n",
        "colors = ['lightskyblue','yellowgreen']\n",
        "explode = (0.1, 0)  # explode 1st slice\n",
        " \n",
        "\n",
        "plt.pie(count_rf, explode=explode, labels=labelss1, colors=colors,autopct='%1.1f%%', shadow=True, startangle=140)\n",
        "plt.axis('equal')\n",
        "plt.legend(labelss)\n",
        "plt.tight_layout()\n",
        "plt.show()\n"
      ],
      "execution_count": 5,
      "outputs": [
        {
          "output_type": "display_data",
          "data": {
            "image/png": "[encoded data removed]",
            "text/plain": [
              "<Figure size 640x480 with 1 Axes>"
            ]
          },
          "metadata": {
            "tags": []
          }
        }
      ]
    },
    {
      "metadata": {
        "id": "BYqe3bM2_zue",
        "colab_type": "text"
      },
      "cell_type": "markdown",
      "source": [
        "**PARSE DATASET AND EXTRACT ESSENTIAL FEATURES FROM IT**\n"
      ]
    },
    {
      "metadata": {
        "id": "cYh6I9qLC_Ad",
        "colab_type": "text"
      },
      "cell_type": "markdown",
      "source": [
        "**Function for Parsing Only Review Text**"
      ]
    },
    {
      "metadata": {
        "id": "WuX-NaUwZlrh",
        "colab_type": "code",
        "colab": {}
      },
      "cell_type": "code",
      "source": [
        "def parse(review):\n",
        "    return (review[7])\n"
      ],
      "execution_count": 0,
      "outputs": []
    },
    {
      "metadata": {
        "id": "5vusP1gE_6M8",
        "colab_type": "text"
      },
      "cell_type": "markdown",
      "source": [
        "**Function for Parsing Rating, Verified Purchase, Product Category, Review Title and Review Text **"
      ]
    },
    {
      "metadata": {
        "id": "o5Ur5AU_lB73",
        "colab_type": "code",
        "colab": {}
      },
      "cell_type": "code",
      "source": [
        "def parseAll(review):\n",
        "  return (review[2],review[3],review[4],review[8],review[1])"
      ],
      "execution_count": 0,
      "outputs": []
    },
    {
      "metadata": {
        "id": "xu34IfTHAvw2",
        "colab_type": "text"
      },
      "cell_type": "markdown",
      "source": [
        "**TEXT PREPROCESSING**"
      ]
    },
    {
      "metadata": {
        "id": "VE87otXIZlrn",
        "colab_type": "code",
        "colab": {}
      },
      "cell_type": "code",
      "source": [
        "def preprocess(text):\n",
        "    lemmatizer = WordNetLemmatizer()\n",
        "    filtered_tokens=[]\n",
        "    lemmatized_tokens = []\n",
        "    stop_words = set(stopwords.words('english'))\n",
        "    text = text.translate(table) # translation of text is done here punctuations are replaced with none\n",
        "    for w in text.split(\" \"):\n",
        "        if w not in stop_words:\n",
        "            lemmatized_tokens.append(lemmatizer.lemmatize(w.lower()))\n",
        "            \n",
        "        filtered_tokens = [' '.join(l) for l in nltk.bigrams(lemmatized_tokens)] + lemmatized_tokens\n",
        "        #nltk bigrams will make pair of word occur together mrore frequently\n",
        "        #here ' '.join(l) means it will join the words from the list (here it is l of iterable) with ' ' delimeter in between. \n",
        "    return filtered_tokens \n",
        "    "
      ],
      "execution_count": 0,
      "outputs": []
    },
    {
      "metadata": {
        "id": "n7mOFCBfCa2x",
        "colab_type": "text"
      },
      "cell_type": "markdown",
      "source": [
        "**FUNCTION FOR CONVERTING IN TO VECTOR**"
      ]
    },
    {
      "metadata": {
        "id": "nD7RUMdWjFZr",
        "colab_type": "code",
        "colab": {}
      },
      "cell_type": "code",
      "source": [
        "def toFeatureVector(Rating, verified_Purchase, product_Category, tokens):\n",
        "    localDict = {}\n",
        "    \n",
        "#Rating\n",
        "\n",
        "    #print(Rating)\n",
        "    featureDict[\"R\"] = 1   \n",
        "    localDict[\"R\"] = Rating\n",
        "\n",
        "#Verified_Purchase\n",
        "  \n",
        "    featureDict[\"VP\"] = 1\n",
        "            \n",
        "    if verified_Purchase == \"N\":\n",
        "        localDict[\"VP\"] = 0\n",
        "    else:\n",
        "        localDict[\"VP\"] = 1\n",
        "\n",
        "#Product_Category\n",
        "\n",
        "    \n",
        "    if product_Category not in featureDict:\n",
        "        featureDict[product_Category] = 1\n",
        "    else:\n",
        "        featureDict[product_Category] = +1\n",
        "            \n",
        "    if product_Category not in localDict:\n",
        "        localDict[product_Category] = 1\n",
        "    else:\n",
        "        localDict[product_Category] = +1\n",
        "            \n",
        "            \n",
        "#Text        \n",
        "\n",
        "    for token in tokens:\n",
        "        if token not in featureDict:\n",
        "            featureDict[token] = 1\n",
        "        else:\n",
        "            featureDict[token] = +1\n",
        "            \n",
        "        if token not in localDict:\n",
        "            localDict[token] = 1\n",
        "        else:\n",
        "            localDict[token] = +1\n",
        "    \n",
        "    return localDict\n"
      ],
      "execution_count": 0,
      "outputs": []
    },
    {
      "metadata": {
        "id": "vph4bC10IVgT",
        "colab_type": "text"
      },
      "cell_type": "markdown",
      "source": [
        "**DATA SET IN LIST FORM WITH THE DESIRED INPUTS**"
      ]
    },
    {
      "metadata": {
        "id": "cGCVA0e6ZlsA",
        "colab_type": "code",
        "colab": {}
      },
      "cell_type": "code",
      "source": [
        "dataset1 = list(df.values)\n",
        "rawData = []\n",
        "r,c = df.shape\n",
        "length=len(df)\n",
        "length\n",
        "for i in range(length):\n",
        "  \n",
        "  ( Rating, verified_Purchase, product_Category, Text, Label) = parseAll(dataset1[i])\n",
        "  rawData.append(( Rating, verified_Purchase, product_Category, Text, Label))\n",
        "  \n",
        "dataset= rawData\n"
      ],
      "execution_count": 0,
      "outputs": []
    },
    {
      "metadata": {
        "id": "nvmlQY2DJktV",
        "colab_type": "text"
      },
      "cell_type": "markdown",
      "source": [
        "**SPLIT Function for All types of Feature Input**"
      ]
    },
    {
      "metadata": {
        "id": "r6a9JJyNP1ms",
        "colab_type": "code",
        "colab": {}
      },
      "cell_type": "code",
      "source": [
        "def split(percent):\n",
        "    dataSamples = len(dataset)\n",
        "    halfOfData = int(len(dataset)/2)\n",
        "    trainingSamples = int((percent*dataSamples)/2)\n",
        "    \n",
        "  \n",
        "    for (Rating, verified_Purchase, product_Category, Text, Label) in dataset[:trainingSamples] + dataset[halfOfData:halfOfData+trainingSamples]:\n",
        "        trainData.append((toFeatureVector(Rating, verified_Purchase, product_Category, preprocess(Text)),Label))\n",
        "    for ( Rating, verified_Purchase, product_Category, Text, Label) in dataset[trainingSamples:halfOfData] + dataset[halfOfData+trainingSamples:]:\n",
        "        testData.append((toFeatureVector(Rating, verified_Purchase, product_Category, preprocess(Text)),Label))\n",
        "   "
      ],
      "execution_count": 0,
      "outputs": []
    },
    {
      "metadata": {
        "id": "OrJ8s93P9wds",
        "colab_type": "text"
      },
      "cell_type": "markdown",
      "source": [
        "**TRAINING CLASSIFIER FUNCTION USING LINEAR SVM**"
      ]
    },
    {
      "metadata": {
        "id": "Ncai1h1_Zlsn",
        "colab_type": "code",
        "colab": {}
      },
      "cell_type": "code",
      "source": [
        "def trainClassifier(trainclassifier):\n",
        "    print(\"Training Classifier\")\n",
        "    pipeline =  Pipeline([('svc', LinearSVC())])\n",
        "    return SklearnClassifier(pipeline).train(trainclassifier)"
      ],
      "execution_count": 0,
      "outputs": []
    },
    {
      "metadata": {
        "colab_type": "text",
        "id": "bUgXT9oT8aQz"
      },
      "cell_type": "markdown",
      "source": [
        "**TRAINING CLASSIFIER FUNCTION USING LINEAR SVM**"
      ]
    },
    {
      "metadata": {
        "id": "wdpdtRg0Uyvy",
        "colab_type": "code",
        "colab": {}
      },
      "cell_type": "code",
      "source": [
        "def crossValidate(dataset_cv, folds):\n",
        "    cv_results = []\n",
        "    foldSize = int(len(dataset_cv)/folds)\n",
        "    for i in range(0,len(dataset_cv),foldSize):\n",
        "        classifier = trainClassifier(dataset_cv[:i]+dataset_cv[foldSize+i:])\n",
        "        y_pred = predictLabels(dataset_cv[i:i+foldSize],classifier)\n",
        "        a = accuracy_score(list(map(lambda d : d[1], dataset_cv[i:i+foldSize])), y_pred)\n",
        "        (p,r,f,_) = precision_recall_fscore_support(list(map(lambda d : d[1], dataset_cv[i:i+foldSize])), y_pred, average ='macro')\n",
        "        #print(a,p,r,f)\n",
        "        cv_results.append((a,p,r,f))\n",
        "    cv_results = (np.mean(np.array(cv_results),axis=0))\n",
        "    return cv_results"
      ],
      "execution_count": 0,
      "outputs": []
    },
    {
      "metadata": {
        "colab_type": "text",
        "id": "VQYt0DHF8dP1"
      },
      "cell_type": "markdown",
      "source": [
        "**TRAINING CLASSIFIER FUNCTION USING LINEAR SVM**"
      ]
    },
    {
      "metadata": {
        "id": "4du4lDisZlry",
        "colab_type": "code",
        "colab": {}
      },
      "cell_type": "code",
      "source": [
        "def predictLabels(reviewSamples, classifier1):\n",
        "    return classifier1.classify_many(map(lambda t: t[0], reviewSamples))\n",
        "\n"
      ],
      "execution_count": 0,
      "outputs": []
    },
    {
      "metadata": {
        "id": "39OozcS6Ixos",
        "colab_type": "text"
      },
      "cell_type": "markdown",
      "source": [
        "**SPLIT FUNCTION CALLED**"
      ]
    },
    {
      "metadata": {
        "id": "dymfvRkWZlr4",
        "colab_type": "code",
        "colab": {}
      },
      "cell_type": "code",
      "source": [
        "split(0.80)"
      ],
      "execution_count": 0,
      "outputs": []
    },
    {
      "metadata": {
        "id": "8FRb00EeI12p",
        "colab_type": "text"
      },
      "cell_type": "markdown",
      "source": [
        "**CROSS-VALIDATE CALLED **"
      ]
    },
    {
      "metadata": {
        "id": "NNlxUNkPVBNJ",
        "colab_type": "code",
        "outputId": "80daab19-5149-44be-ad35-ecc35ec915ed",
        "colab": {
          "base_uri": "https://localhost:8080/",
          "height": 308
        }
      },
      "cell_type": "code",
      "source": [
        "# Fold = 10\n",
        "\n",
        "print(\"Now %d rawData, %d trainData, %d testData\" % (len(dataset), len(trainData), len(testData)),\n",
        "               \"Training Samples: \", len(dataset), \"Features: \", len(featureDict), sep='\\n')\n",
        "CV_RES = crossValidate(trainData, 10)\n",
        "print(\"Mean of cross-validations (Accuracy, Precision, Recall, Fscore): \", CV_RES)"
      ],
      "execution_count": 17,
      "outputs": [
        {
          "output_type": "stream",
          "text": [
            "Now 21000 rawData, 16800 trainData, 4200 testData\n",
            "Training Samples: \n",
            "21000\n",
            "Features: \n",
            "512124\n",
            "Training Classifier\n",
            "Training Classifier\n",
            "Training Classifier\n",
            "Training Classifier\n",
            "Training Classifier\n",
            "Training Classifier\n",
            "Training Classifier\n",
            "Training Classifier\n",
            "Training Classifier\n",
            "Training Classifier\n",
            "Mean of cross-validations (Accuracy, Precision, Recall, Fscore):  [0.80809524 0.80829532 0.80811726 0.80803727]\n"
          ],
          "name": "stdout"
        }
      ]
    },
    {
      "metadata": {
        "colab_type": "text",
        "id": "vDbkQ59yK2UP"
      },
      "cell_type": "markdown",
      "source": [
        "**VISUALIZATION OF CROSS-VALIDATION WITH 10 FOLDS**"
      ]
    },
    {
      "metadata": {
        "id": "rEX9Kv6ZKjkI",
        "colab_type": "code",
        "colab": {
          "base_uri": "https://localhost:8080/",
          "height": 453
        },
        "outputId": "d8666618-39c0-4e38-d90b-6f85d05a03fd"
      },
      "cell_type": "code",
      "source": [
        "objects = ('Accuracy', 'Precision', 'Recall', 'F1_score')\n",
        "\n",
        "performance = CV_RES\n",
        "bar_width=0.3\n",
        "rects1 = plt.bar(objects, performance,bar_width ,alpha=0.8,color='b',)\n",
        " \n",
        "plt.xticks(objects, objects)\n",
        "plt.ylabel('Score')\n",
        "plt.title('Evaluation 10 fold Cross Validation on Training Dataset ')\n",
        "\n",
        "\n",
        "plt.show()"
      ],
      "execution_count": 18,
      "outputs": [
        {
          "output_type": "display_data",
          "data": {
            "image/png": "[encoded data removed]",
            "text/plain": [
              "<Figure size 640x480 with 1 Axes>"
            ]
          },
          "metadata": {
            "tags": []
          }
        }
      ]
    },
    {
      "metadata": {
        "colab_type": "text",
        "id": "6G1Dr5aK9bYW"
      },
      "cell_type": "markdown",
      "source": [
        "**TESTING ACCURACY USING TEST SET**"
      ]
    },
    {
      "metadata": {
        "id": "wCXQLAasshOc",
        "colab_type": "code",
        "outputId": "9cf5961a-f992-40a4-84a4-e7d36afe0f35",
        "colab": {
          "base_uri": "https://localhost:8080/",
          "height": 108
        }
      },
      "cell_type": "code",
      "source": [
        "## Test Accuracy\n",
        "classifier = trainClassifier(trainData)\n",
        "predictions = predictLabels(testData, classifier)\n",
        "true_labels = list(map(lambda d: d[1], testData))\n",
        "a = accuracy_score(true_labels, predictions)\n",
        "p, r, f1, _ = precision_recall_fscore_support(true_labels, predictions, average='macro')\n",
        "print(\"accuracy: \", a)\n",
        "print(\"Precision: \", p)\n",
        "print(\"Recall: \", r)\n",
        "print(\"f1-score: \", f1)\n",
        "\n",
        "TEST_RES = [a,p,r,f1]"
      ],
      "execution_count": 19,
      "outputs": [
        {
          "output_type": "stream",
          "text": [
            "Training Classifier\n",
            "accuracy:  0.815\n",
            "Precision:  0.8153874284686937\n",
            "Recall:  0.8150495106082498\n",
            "f1-score:  0.8149583656322673\n"
          ],
          "name": "stdout"
        }
      ]
    },
    {
      "metadata": {
        "id": "-uUPaLdpBMel",
        "colab_type": "text"
      },
      "cell_type": "markdown",
      "source": [
        "**VISUALIZATION OF PREDICTION RESULT ON TEST DATA SET**"
      ]
    },
    {
      "metadata": {
        "id": "VsQSKCZ4KV9N",
        "colab_type": "code",
        "colab": {
          "base_uri": "https://localhost:8080/",
          "height": 453
        },
        "outputId": "6f989dca-4d6b-4ae7-a6c1-49db130f52e0"
      },
      "cell_type": "code",
      "source": [
        "objects = ('Accuracy', 'Precision', 'Recall', 'F1_score')\n",
        "\n",
        "performance = TEST_RES\n",
        "bar_width=0.3\n",
        "rects1 = plt.bar(objects, performance,bar_width ,alpha=0.8,color='b',)\n",
        " \n",
        "\n",
        "plt.xticks(objects, objects)\n",
        "plt.ylabel('Score')\n",
        "plt.title('Evaluation of Test Data ')\n",
        "\n",
        "\n",
        "plt.show()"
      ],
      "execution_count": 20,
      "outputs": [
        {
          "output_type": "display_data",
          "data": {
            "image/png": "[encoded data removed]",
            "text/plain": [
              "<Figure size 640x480 with 1 Axes>"
            ]
          },
          "metadata": {
            "tags": []
          }
        }
      ]
    }
  ]
}