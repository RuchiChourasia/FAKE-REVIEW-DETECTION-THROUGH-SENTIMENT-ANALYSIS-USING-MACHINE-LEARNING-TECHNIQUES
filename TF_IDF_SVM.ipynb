{
  "nbformat": 4,
  "nbformat_minor": 0,
  "metadata": {
    "colab": {
      "name": "TF-IDF_SVM.ipynb",
      "version": "0.3.2",
      "provenance": [],
      "collapsed_sections": []
    },
    "kernelspec": {
      "name": "python3",
      "display_name": "Python 3"
    },
    "accelerator": "TPU"
  },
  "cells": [
    {
      "metadata": {
        "id": "zoJPKXYPEabY",
        "colab_type": "text"
      },
      "cell_type": "markdown",
      "source": [
        "**Mounting to Google Colab**"
      ]
    },
    {
      "metadata": {
        "id": "CyIpr5YwZwGi",
        "colab_type": "code",
        "outputId": "dd577935-3081-4ead-c456-2cfbe7b6fdbf",
        "colab": {
          "base_uri": "https://localhost:8080/",
          "height": 35
        }
      },
      "cell_type": "code",
      "source": [
        "from google.colab import drive\n",
        "drive.mount('/content/drive')"
      ],
      "execution_count": 1,
      "outputs": [
        {
          "output_type": "stream",
          "text": [
            "Drive already mounted at /content/drive; to attempt to forcibly remount, call drive.mount(\"/content/drive\", force_remount=True).\n"
          ],
          "name": "stdout"
        }
      ]
    },
    {
      "metadata": {
        "id": "7tFRgVKi_WVp",
        "colab_type": "text"
      },
      "cell_type": "markdown",
      "source": [
        "**Import All Required Packages**"
      ]
    },
    {
      "metadata": {
        "id": "RuNPM8hvZlrM",
        "colab_type": "code",
        "outputId": "39fbb0b5-4017-415a-f309-beb757da3157",
        "colab": {
          "base_uri": "https://localhost:8080/",
          "height": 90
        }
      },
      "cell_type": "code",
      "source": [
        "import csv\n",
        "import pandas as pd\n",
        "import numpy as np\n",
        "# used for encoding\n",
        "import chardet\n",
        "# natural language toolkit\n",
        "import nltk\n",
        "# wordnet is the database of English language\n",
        "nltk.download('wordnet')\n",
        "# stopwords for removing it from review\n",
        "from nltk.corpus import stopwords\n",
        "nltk.download('stopwords')\n",
        "##from nltk.tokenize import RegexpTokenizer\n",
        "from nltk.stem import WordNetLemmatizer\n",
        "# ngrams used for bigram input\n",
        "from nltk.util import ngrams\n",
        "import string\n",
        "import math\n",
        "# importing Linear SVM Classifier \n",
        "from sklearn.svm import LinearSVC\n",
        "from nltk.classify import SklearnClassifier\n",
        "from sklearn.pipeline import Pipeline\n",
        "# evaluation measures\n",
        "from sklearn.metrics import precision_recall_fscore_support\n",
        "from sklearn.metrics import accuracy_score\n",
        "# for plots and visualizations\n",
        "import matplotlib.pyplot as plt; plt.rcdefaults()\n",
        "import matplotlib.pyplot as plt\n",
        "\n",
        "import warnings\n",
        "warnings.filterwarnings(\"ignore\")"
      ],
      "execution_count": 2,
      "outputs": [
        {
          "output_type": "stream",
          "text": [
            "[nltk_data] Downloading package wordnet to /root/nltk_data...\n",
            "[nltk_data]   Package wordnet is already up-to-date!\n",
            "[nltk_data] Downloading package stopwords to /root/nltk_data...\n",
            "[nltk_data]   Package stopwords is already up-to-date!\n"
          ],
          "name": "stdout"
        }
      ]
    },
    {
      "metadata": {
        "id": "jUAERBpsZlrV",
        "colab_type": "code",
        "colab": {}
      },
      "cell_type": "code",
      "source": [
        "#universal variable declaration\n",
        "dataset = []\n",
        "\n",
        "# variable declaration for only review as the feature input\n",
        "trainData = []\n",
        "testData = []\n",
        "trainData_label = []\n",
        "testData_label = []\n",
        "\n",
        "# variable declaration for All the feature input\n",
        "trainDataAll = []\n",
        "testDataAll = []\n",
        "trainData_labelAll = []\n",
        "testData_labelAll = []\n",
        "\n",
        "# for removal of punctuation words\n",
        "table = str.maketrans({key: None for key in string.punctuation})\n",
        "\n",
        "# Label lists\n",
        "label = []\n",
        "labelAll = []\n",
        "\n",
        "tfs = {}      # term frequency\n",
        "tfidf = {}    # term frequency Inverse document frequency\n",
        "\n",
        "tfs_test = {}    # term frequency for test data\n",
        "tfidf_test = {}  # term frequency Inverse document frequency for test data\n",
        "\n",
        "featureDict = {}         # A global dictionary of features\n",
        "featureDict_test = {}    # A global dictionary of All features"
      ],
      "execution_count": 0,
      "outputs": []
    },
    {
      "metadata": {
        "id": "R-NtngKrxwV8",
        "colab_type": "text"
      },
      "cell_type": "markdown",
      "source": [
        "**IMPORT DATASET  **"
      ]
    },
    {
      "metadata": {
        "id": "Aub6OQ7EZlra",
        "colab_type": "code",
        "outputId": "8ae54c6b-7ba8-4a94-dcc5-59c4382cf2f2",
        "colab": {
          "base_uri": "https://localhost:8080/",
          "height": 354
        }
      },
      "cell_type": "code",
      "source": [
        "df = pd.read_csv(r\"/content/drive/My Drive/Colab Notebooks/amazon_data.csv\", encoding='Latin-1')\n",
        "df = df.sample(frac=1).reset_index(drop=True)\n",
        "\n",
        "# Replace the Labels with FAKE and REAL\n",
        "df = df.replace({'LABEL': {'__label1__':'FAKE' , '__label2__':'REAL'}})\n",
        "\n",
        "display(df.head())\n",
        "\n",
        "# label list for Review only\n",
        "label=df['LABEL'].tolist()\n",
        "\n",
        "# label list for all as feature\n",
        "labelAll=df['LABEL'].tolist()\n",
        "\n",
        "# Drop the LABEL\n",
        "df=df.drop('LABEL',axis=1)\n",
        "row,col = df.shape\n"
      ],
      "execution_count": 4,
      "outputs": [
        {
          "output_type": "display_data",
          "data": {
            "text/html": [
              "<div>\n",
              "<style scoped>\n",
              "    .dataframe tbody tr th:only-of-type {\n",
              "        vertical-align: middle;\n",
              "    }\n",
              "\n",
              "    .dataframe tbody tr th {\n",
              "        vertical-align: top;\n",
              "    }\n",
              "\n",
              "    .dataframe thead th {\n",
              "        text-align: right;\n",
              "    }\n",
              "</style>\n",
              "<table border=\"1\" class=\"dataframe\">\n",
              "  <thead>\n",
              "    <tr style=\"text-align: right;\">\n",
              "      <th></th>\n",
              "      <th>DOC_ID</th>\n",
              "      <th>LABEL</th>\n",
              "      <th>RATING</th>\n",
              "      <th>VERIFIED_PURCHASE</th>\n",
              "      <th>PRODUCT_CATEGORY</th>\n",
              "      <th>PRODUCT_ID</th>\n",
              "      <th>PRODUCT_TITLE</th>\n",
              "      <th>REVIEW_TITLE</th>\n",
              "      <th>REVIEW_TEXT</th>\n",
              "    </tr>\n",
              "  </thead>\n",
              "  <tbody>\n",
              "    <tr>\n",
              "      <th>0</th>\n",
              "      <td>5721</td>\n",
              "      <td>FAKE</td>\n",
              "      <td>5</td>\n",
              "      <td>Y</td>\n",
              "      <td>Books</td>\n",
              "      <td>1484098919</td>\n",
              "      <td>Sustainable Luxe: A Guide to Feel-Good Fashion</td>\n",
              "      <td>Shop smarter without compromising your love of...</td>\n",
              "      <td>As a San Franciscan who makes it a priority to...</td>\n",
              "    </tr>\n",
              "    <tr>\n",
              "      <th>1</th>\n",
              "      <td>12766</td>\n",
              "      <td>REAL</td>\n",
              "      <td>4</td>\n",
              "      <td>Y</td>\n",
              "      <td>Electronics</td>\n",
              "      <td>B007S6U7I4</td>\n",
              "      <td>Portta PETDASM Premium Digital Coaxial Toslink...</td>\n",
              "      <td>Just what I needed</td>\n",
              "      <td>I have a Toshiba flat panel TV and it only had...</td>\n",
              "    </tr>\n",
              "    <tr>\n",
              "      <th>2</th>\n",
              "      <td>11556</td>\n",
              "      <td>REAL</td>\n",
              "      <td>4</td>\n",
              "      <td>N</td>\n",
              "      <td>Grocery</td>\n",
              "      <td>B00B5I7KYK</td>\n",
              "      <td>Nabisco, Oreo, Birthday Cake Creme, Chocolate ...</td>\n",
              "      <td>Good Enough to Buy on Site</td>\n",
              "      <td>I rather liked them. I wouldn't go as far as t...</td>\n",
              "    </tr>\n",
              "    <tr>\n",
              "      <th>3</th>\n",
              "      <td>3632</td>\n",
              "      <td>FAKE</td>\n",
              "      <td>3</td>\n",
              "      <td>N</td>\n",
              "      <td>Luggage</td>\n",
              "      <td>B001M0O0FS</td>\n",
              "      <td>Eagle Creek Travel Ear Plug Set - 6 Pack</td>\n",
              "      <td>Just a liltte help for travelling</td>\n",
              "      <td>Its quality is just enough value for the price...</td>\n",
              "    </tr>\n",
              "    <tr>\n",
              "      <th>4</th>\n",
              "      <td>16990</td>\n",
              "      <td>REAL</td>\n",
              "      <td>1</td>\n",
              "      <td>N</td>\n",
              "      <td>Pet Products</td>\n",
              "      <td>B003M7P9YU</td>\n",
              "      <td>EHEIM Jager Aquarium Thermostat Heater 150W</td>\n",
              "      <td>EHEIM used to be great....</td>\n",
              "      <td>The one I received was never soldered at the g...</td>\n",
              "    </tr>\n",
              "  </tbody>\n",
              "</table>\n",
              "</div>"
            ],
            "text/plain": [
              "   DOC_ID LABEL  RATING VERIFIED_PURCHASE PRODUCT_CATEGORY  PRODUCT_ID  \\\n",
              "0    5721  FAKE       5                 Y            Books  1484098919   \n",
              "1   12766  REAL       4                 Y      Electronics  B007S6U7I4   \n",
              "2   11556  REAL       4                 N          Grocery  B00B5I7KYK   \n",
              "3    3632  FAKE       3                 N          Luggage  B001M0O0FS   \n",
              "4   16990  REAL       1                 N     Pet Products  B003M7P9YU   \n",
              "\n",
              "                                       PRODUCT_TITLE  \\\n",
              "0     Sustainable Luxe: A Guide to Feel-Good Fashion   \n",
              "1  Portta PETDASM Premium Digital Coaxial Toslink...   \n",
              "2  Nabisco, Oreo, Birthday Cake Creme, Chocolate ...   \n",
              "3           Eagle Creek Travel Ear Plug Set - 6 Pack   \n",
              "4        EHEIM Jager Aquarium Thermostat Heater 150W   \n",
              "\n",
              "                                        REVIEW_TITLE  \\\n",
              "0  Shop smarter without compromising your love of...   \n",
              "1                                 Just what I needed   \n",
              "2                         Good Enough to Buy on Site   \n",
              "3                  Just a liltte help for travelling   \n",
              "4                         EHEIM used to be great....   \n",
              "\n",
              "                                         REVIEW_TEXT  \n",
              "0  As a San Franciscan who makes it a priority to...  \n",
              "1  I have a Toshiba flat panel TV and it only had...  \n",
              "2  I rather liked them. I wouldn't go as far as t...  \n",
              "3  Its quality is just enough value for the price...  \n",
              "4  The one I received was never soldered at the g...  "
            ]
          },
          "metadata": {
            "tags": []
          }
        }
      ]
    },
    {
      "metadata": {
        "id": "aeLa6GlX9_0Y",
        "colab_type": "text"
      },
      "cell_type": "markdown",
      "source": [
        "**VISUALIZATION OF DATASET**"
      ]
    },
    {
      "metadata": {
        "id": "iX1BZTCh9-_x",
        "colab_type": "code",
        "colab": {
          "base_uri": "https://localhost:8080/",
          "height": 487
        },
        "outputId": "9391f6ef-7685-4ce3-8731-0718f1d3e5b8"
      },
      "cell_type": "code",
      "source": [
        "count_real=0\n",
        "count_fake=0\n",
        "for x in label:\n",
        "  if x == 'REAL':\n",
        "    count_real +=1\n",
        "  else:\n",
        "    count_fake +=1\n",
        "\n",
        "count_rf=[count_real,count_fake] \n",
        "# Data to plot\n",
        "labelss = 'REAL', 'FAKE'\n",
        "labelss1=count_real,count_fake\n",
        "\n",
        "colors = ['lightskyblue','yellowgreen']\n",
        "explode = (0.1, 0)  # explode 1st slice\n",
        " \n",
        "\n",
        "plt.pie(count_rf, explode=explode, labels=labelss1, colors=colors,autopct='%1.1f%%', shadow=True, startangle=140)\n",
        "plt.axis('equal')\n",
        "plt.legend(labelss)\n",
        "plt.tight_layout()\n",
        "plt.show()"
      ],
      "execution_count": 5,
      "outputs": [
        {
          "output_type": "display_data",
          "data": {
            "image/png": "[encoded data removed]",
            "text/plain": [
              "<Figure size 640x480 with 1 Axes>"
            ]
          },
          "metadata": {
            "tags": []
          }
        }
      ]
    },
    {
      "metadata": {
        "id": "BYqe3bM2_zue",
        "colab_type": "text"
      },
      "cell_type": "markdown",
      "source": [
        "**PARSE DATASET AND EXTRACT ESSENTIAL FEATURES FROM IT**\n"
      ]
    },
    {
      "metadata": {
        "id": "cYh6I9qLC_Ad",
        "colab_type": "text"
      },
      "cell_type": "markdown",
      "source": [
        "**Function for Parsing Only Review Text**"
      ]
    },
    {
      "metadata": {
        "id": "WuX-NaUwZlrh",
        "colab_type": "code",
        "colab": {}
      },
      "cell_type": "code",
      "source": [
        "def parse(review):\n",
        "    return (review[7])\n"
      ],
      "execution_count": 0,
      "outputs": []
    },
    {
      "metadata": {
        "id": "5vusP1gE_6M8",
        "colab_type": "text"
      },
      "cell_type": "markdown",
      "source": [
        "**Function for Parsing Rating, Verified Purchase, Product Category, Review Title and Review Text **"
      ]
    },
    {
      "metadata": {
        "id": "uHzedBbhUAyW",
        "colab_type": "code",
        "colab": {}
      },
      "cell_type": "code",
      "source": [
        "def parseAll(review):\n",
        "  return (review[1],review[2],review[3],review[6],review[7])"
      ],
      "execution_count": 0,
      "outputs": []
    },
    {
      "metadata": {
        "id": "xu34IfTHAvw2",
        "colab_type": "text"
      },
      "cell_type": "markdown",
      "source": [
        "**TEXT PREPROCESSING**"
      ]
    },
    {
      "metadata": {
        "colab_type": "text",
        "id": "X7ePEkDj_Z9t"
      },
      "cell_type": "markdown",
      "source": [
        "***1. STOP WORDS REMOVAL***\n",
        "***2. REMOVING PUNCTUATIONS***\n",
        "***3. LEMMATIZING***\n",
        "***4. USING BIGRAMS***"
      ]
    },
    {
      "metadata": {
        "colab_type": "code",
        "id": "4ku_PxxJ_Z9r",
        "colab": {}
      },
      "cell_type": "code",
      "source": [
        "def preprocess(text):\n",
        "    lemmatizer = WordNetLemmatizer()\n",
        "    filtered_tokens=[]\n",
        "    lemmatized_tokens = []\n",
        "    stop_words = set(stopwords.words('english'))\n",
        "    text = text.translate(table)           # translation of text is done here punctuations are replaced with none\n",
        "    for w in text.split(\" \"):\n",
        "        if w not in stop_words:\n",
        "            lemmatized_tokens.append(lemmatizer.lemmatize(w.lower()))\n",
        "      \n",
        "    return lemmatized_tokens #lemmatized_tokens  #filtered_tokens\n",
        "    "
      ],
      "execution_count": 0,
      "outputs": []
    },
    {
      "metadata": {
        "colab_type": "text",
        "id": "MImzTxcD_Z9q"
      },
      "cell_type": "markdown",
      "source": [
        "**COUNT OF TOKENS IN THE TEXT**"
      ]
    },
    {
      "metadata": {
        "colab_type": "code",
        "id": "ObsZb4GQ_Z9m",
        "colab": {}
      },
      "cell_type": "code",
      "source": [
        "def bow(Text):\n",
        "  \n",
        "    bowCount = len(Text)\n",
        "    \n",
        "    return bowCount"
      ],
      "execution_count": 0,
      "outputs": []
    },
    {
      "metadata": {
        "colab_type": "text",
        "id": "4KF0BQtD_Z9l"
      },
      "cell_type": "markdown",
      "source": [
        "**FUNCTION COMPUTING TERM FREQUENCY TF FOR EACH DOCUMENT**"
      ]
    },
    {
      "metadata": {
        "colab_type": "code",
        "id": "jexILINt_Z9j",
        "colab": {}
      },
      "cell_type": "code",
      "source": [
        "def computeTF(localDict, bowCount):\n",
        "    \n",
        "    tfDict = {}\n",
        "    for word, count in localDict.items():\n",
        "        tfDict[word] = count/float(bowCount)\n",
        "    \n",
        "    return tfDict\n",
        "    "
      ],
      "execution_count": 0,
      "outputs": []
    },
    {
      "metadata": {
        "colab_type": "text",
        "id": "SMhQ4F-r_Z9j"
      },
      "cell_type": "markdown",
      "source": [
        "**FUNCTION FOR COMPUTING THE INVERSE-DOCUMENT FREQUENCY IDF WITH RESPECT TO WHOLE DATA WHICH IS PASSED**"
      ]
    },
    {
      "metadata": {
        "colab_type": "code",
        "id": "nGmlyYH5_Z9h",
        "colab": {}
      },
      "cell_type": "code",
      "source": [
        "def computeIDF(docList):\n",
        "   \n",
        "    idfDict = {}\n",
        "    #print(docList)\n",
        "    N = row ## row\n",
        "    #display(N)\n",
        "    \n",
        "    idfDict = dict.fromkeys(docList[0].keys(), 0)\n",
        "    for doc in docList:\n",
        "      for key, value in doc.items():\n",
        "        \n",
        "        if value > 0:\n",
        "          idfDict[key] += 1\n",
        "              #print(idfDict)\n",
        "   \n",
        "    for word, val in idfDict.items():\n",
        "      idfDict[word] = math.log10(N / float(val))\n",
        "   \n",
        "    return idfDict"
      ],
      "execution_count": 0,
      "outputs": []
    },
    {
      "metadata": {
        "colab_type": "text",
        "id": "a6dqI4OL_Z9f"
      },
      "cell_type": "markdown",
      "source": [
        "**FUNCTION FOR COMPUTING THE TERM FREQUENCY INVERSE-DOCUMENT FREQUENCY TF-IDF FOR EACH DOCUMENT**"
      ]
    },
    {
      "metadata": {
        "colab_type": "code",
        "id": "Mf9yZZBJ_Z9d",
        "colab": {}
      },
      "cell_type": "code",
      "source": [
        "# FOR TRAINING DATASET\n",
        "\n",
        "def computeTFIDF(tfs, idfs): \n",
        "    \n",
        "  for key,val in tfs.items():\n",
        "    t={}\n",
        "    for k,v in val.items():\n",
        "       t[k]=v*idfs[k]\n",
        "    tfidf[key] = t\n",
        "     \n",
        "  return tfidf\n",
        "\n",
        "# FOR TEST DATASET\n",
        "  \n",
        "def computeTFIDF_test(tfs_test, idfs_t): \n",
        "  \n",
        "  for key,val in tfs_test.items():\n",
        "    t1={}\n",
        "    for k,v in val.items():\n",
        "       t1[k]=v*idfs_t[k]\n",
        "    tfidf_test[key] = t1\n",
        "    \n",
        "  return tfidf_test\n",
        "  \n",
        "  "
      ],
      "execution_count": 0,
      "outputs": []
    },
    {
      "metadata": {
        "colab_type": "text",
        "id": "dufAl1Q6_Z9Z"
      },
      "cell_type": "markdown",
      "source": [
        "**FUNCTION FOR CONVERTING IN TO VECTOR**"
      ]
    },
    {
      "metadata": {
        "colab_type": "code",
        "id": "El_RaASP_Z9W",
        "colab": {}
      },
      "cell_type": "code",
      "source": [
        "# FOR TRAINING DATASET\n",
        "\n",
        "def toFeatureVector(tokens):\n",
        "    localDict = {}\n",
        "    for token in tokens:\n",
        "        if token not in featureDict:\n",
        "            featureDict[token] = 1\n",
        "        else:\n",
        "            featureDict[token] += 1\n",
        "   \n",
        "        if token not in localDict:\n",
        "            localDict[token] = 1\n",
        "        else:\n",
        "            localDict[token] += 1\n",
        "        \n",
        "    return localDict\n",
        "  \n",
        "# FOR TEST DATASET\n",
        "\n",
        "def toFeatureVector_test(tokens1):\n",
        "    localDict1 = {}\n",
        "    for token1 in tokens1:\n",
        "        if token1 not in featureDict_test:\n",
        "            featureDict_test[token1] = 1\n",
        "        else:\n",
        "            featureDict_test[token1] += 1\n",
        "   \n",
        "        if token1 not in localDict1:\n",
        "            localDict1[token1] = 1\n",
        "        else:\n",
        "            localDict1[token1] += 1\n",
        "    \n",
        "    return localDict1"
      ],
      "execution_count": 0,
      "outputs": []
    },
    {
      "metadata": {
        "colab_type": "text",
        "id": "5jiFbE8R_Z9V"
      },
      "cell_type": "markdown",
      "source": [
        "**FUNCTION CALLED FOR  COMPUTING TF-IDF VLAUE FOR DOCUMENTS**"
      ]
    },
    {
      "metadata": {
        "colab_type": "code",
        "id": "5QBdzxNO_Z9T",
        "colab": {}
      },
      "cell_type": "code",
      "source": [
        "# FOR TRAINING DATASET\n",
        "\n",
        "def tfidf_compute(dataset1):\n",
        "  length=len(dataset1)\n",
        "  for i in range(length):\n",
        "      Text = parse(dataset1[i])\n",
        "      temp={}\n",
        "      temp={i:computeTF(toFeatureVector(preprocess(Text)),bow(preprocess(Text)))}\n",
        "      tfs.update(temp)\n",
        "\n",
        "  idfs = computeIDF([featureDict])\n",
        "  tfidfs = computeTFIDF(tfs, idfs)\n",
        "  return tfidfs\n",
        "\n",
        "# FOR TEST DATASET\n",
        "\n",
        "def tfidf_compute_test(dataset2):\n",
        "  length1=len(dataset2)\n",
        "  for j in range(length1):\n",
        "      Text1 = parse(dataset2[j])\n",
        "      temp1={}\n",
        "      temp1={j:computeTF(toFeatureVector_test(preprocess(Text1)),bow(preprocess(Text1)))}\n",
        "      tfs_test.update(temp1)\n",
        "\n",
        "  idfs_t = computeIDF([featureDict_test])\n",
        "  tfidfs_test = computeTFIDF_test(tfs_test, idfs_t)\n",
        "  return tfidfs_test\n",
        "\n"
      ],
      "execution_count": 0,
      "outputs": []
    },
    {
      "metadata": {
        "colab_type": "text",
        "id": "D0CWPAzR_Z9S"
      },
      "cell_type": "markdown",
      "source": [
        "**FUNCTION CALLED FOR  COMPUTING TF-IDF VLAUE FOR DOCUMENTS WITH ALL TAKEN AS FEATURES**"
      ]
    },
    {
      "metadata": {
        "colab_type": "code",
        "id": "w0_EAVVf_Z9P",
        "colab": {}
      },
      "cell_type": "code",
      "source": [
        "# FOR TRAINING DATASET\n",
        "\n",
        "def tfidf_computeAll(dataset1):\n",
        "  length=len(dataset1)\n",
        "  for i in range(length):\n",
        "      R,VP,PC,Title,Text = parseAll(dataset1[i])\n",
        "      temp={}\n",
        "      temp={i:computeTF(toFeatureVector(preprocess(f'{R} {VP} {PC} {Title} {Text}')),bow(preprocess(f'{R} {VP} {PC} {Title} {Text}')))}\n",
        "      tfs.update(temp)\n",
        "\n",
        "  idfs = computeIDF([featureDict])\n",
        "  tfidfs = computeTFIDF(tfs, idfs)\n",
        "  return tfidfs\n",
        "\n",
        "# FOR TEST DATASET\n",
        "\n",
        "def tfidf_compute_testAll(dataset2):\n",
        "  length1=len(dataset2)\n",
        "  for j in range(length1):\n",
        "      R,VP,PC,Title,Text = parseAll(dataset2[j])\n",
        "      temp1={}\n",
        "      temp1={j:computeTF(toFeatureVector_test(preprocess(f'{R} {VP} {PC} {Title} {Text}')),bow(preprocess(f'{R} {VP} {PC} {Title} {Text}')))}\n",
        "      tfs_test.update(temp1)\n",
        "\n",
        "  idfs_t = computeIDF([featureDict_test])\n",
        "  tfidfs_test = computeTFIDF_test(tfs_test, idfs_t)\n",
        "  return tfidfs_test"
      ],
      "execution_count": 0,
      "outputs": []
    },
    {
      "metadata": {
        "colab_type": "text",
        "id": "G06fi6tB_Z9P"
      },
      "cell_type": "markdown",
      "source": [
        "**TAKING INPUT FROM DATAFRAME TO LIST FORM**"
      ]
    },
    {
      "metadata": {
        "colab_type": "code",
        "id": "6dt96wbt_Z9K",
        "colab": {}
      },
      "cell_type": "code",
      "source": [
        "dataset=list(df.values)\n"
      ],
      "execution_count": 0,
      "outputs": []
    },
    {
      "metadata": {
        "colab_type": "text",
        "id": "wbKTS7jm_Z9I"
      },
      "cell_type": "markdown",
      "source": [
        "**SPLITTING DATASET INTO DESIRED PERCENTAGE OF TRAIN AND TEST DATASET**"
      ]
    },
    {
      "metadata": {
        "colab_type": "code",
        "id": "48a1USnG_Z9F",
        "colab": {}
      },
      "cell_type": "code",
      "source": [
        "\n",
        "def split(percent):\n",
        "    dataSamples = len(dataset)\n",
        "    halfOfData = int(len(dataset)/2)\n",
        "    trainingSamples = int((percent*dataSamples)/2)\n",
        "    \n",
        "    # TRAIN data here\n",
        "  \n",
        "    x1=dataset[:trainingSamples] + dataset[halfOfData:halfOfData+trainingSamples]\n",
        "    # calling tfidf_compute\n",
        "    train_tfidf = tfidf_compute(x1)\n",
        "  \n",
        "    for m,n in train_tfidf.items():\n",
        "      # appending tfidf value (n) to the documents into trainData which is a list\n",
        "      trainData.append((n))\n",
        "    \n",
        "   \n",
        "    for x in label[:trainingSamples]+label[halfOfData:halfOfData+trainingSamples]:\n",
        "      # appending Labels of data in to another list \n",
        "      trainData_label.append(x)\n",
        "    \n",
        "    # TEST data here\n",
        "    \n",
        "    x2=dataset[trainingSamples:halfOfData] + dataset[halfOfData+trainingSamples:]\n",
        "    test_tfidf = tfidf_compute_test(x2)\n",
        "    \n",
        "   \n",
        "    for m_t,n_t in test_tfidf.items():\n",
        "      testData.append((n_t))\n",
        "    \n",
        "   \n",
        "    for y in label[trainingSamples:halfOfData] + label[halfOfData+trainingSamples:]:\n",
        "      testData_label.append(y)\n",
        "    "
      ],
      "execution_count": 0,
      "outputs": []
    },
    {
      "metadata": {
        "colab_type": "text",
        "id": "VXujvRnv_Z9E"
      },
      "cell_type": "markdown",
      "source": [
        "**SPLITTING DATASET IN TO TRAIN AND TEST DATASET FOR ALL THE FEATURES** "
      ]
    },
    {
      "metadata": {
        "colab_type": "code",
        "id": "gIslry29_Z9B",
        "colab": {}
      },
      "cell_type": "code",
      "source": [
        "def splitAll(percent):\n",
        "  \n",
        "    dataSamplesAll = len(dataset)\n",
        "    halfOfDataAll = int(len(dataset)/2)\n",
        "    trainingSamplesAll = int((percent*dataSamplesAll)/2)\n",
        "    \n",
        "    # TRAIN Data here  \n",
        "  \n",
        "    x11 = dataset[:trainingSamplesAll] + dataset[halfOfDataAll:halfOfDataAll+trainingSamplesAll]\n",
        "    train_tfidf = tfidf_computeAll(x11)\n",
        "    for m11,n11 in train_tfidf.items():\n",
        "      trainDataAll.append((n11))\n",
        "    \n",
        "   \n",
        "    for x in labelAll[:trainingSamplesAll]+labelAll[halfOfDataAll:halfOfDataAll+trainingSamplesAll]:\n",
        "      trainData_labelAll.append(x)\n",
        "    \n",
        "    # TEST Data here\n",
        "    \n",
        "    x22 = dataset[trainingSamplesAll:halfOfDataAll] + dataset[halfOfDataAll+trainingSamplesAll:]\n",
        "    test_tfidf = tfidf_compute_testAll(x22)\n",
        "    \n",
        "   \n",
        "    for m_t11,n_t11 in test_tfidf.items():\n",
        "      testDataAll.append((n_t11))\n",
        "    \n",
        "   \n",
        "    for y in labelAll[trainingSamplesAll:halfOfDataAll] + labelAll[halfOfDataAll+trainingSamplesAll:]:\n",
        "      testData_labelAll.append(y)\n",
        "    "
      ],
      "execution_count": 0,
      "outputs": []
    },
    {
      "metadata": {
        "colab_type": "text",
        "id": "UDK0an42_Z9A"
      },
      "cell_type": "markdown",
      "source": [
        "**TRAINING CLASSIFIER FUNCTION USING LINEAR SVM**"
      ]
    },
    {
      "metadata": {
        "colab_type": "code",
        "id": "rHLFFiK5_Z85",
        "colab": {}
      },
      "cell_type": "code",
      "source": [
        "def trainClassifier(trainclassifier):\n",
        "  \n",
        "    print(\"Training Classifier\")\n",
        "    pipeline =  Pipeline([('svc', LinearSVC())])\n",
        "    \n",
        "    return SklearnClassifier(pipeline).train(trainclassifier)"
      ],
      "execution_count": 0,
      "outputs": []
    },
    {
      "metadata": {
        "colab_type": "text",
        "id": "OpYOqLpY_Z85"
      },
      "cell_type": "markdown",
      "source": [
        "**CROSS-VALIDATE FUNCTION **"
      ]
    },
    {
      "metadata": {
        "colab_type": "code",
        "id": "7fsuKdph_Z83",
        "colab": {}
      },
      "cell_type": "code",
      "source": [
        "def crossValidate(dataset_cv, folds):\n",
        "  \n",
        "    cv_results = []\n",
        "    \n",
        "    # Each fold's Size of the dataset\n",
        "    \n",
        "    foldSize = int(len(dataset_cv)/folds)\n",
        "    \n",
        "    for i in range(0,len(dataset_cv),foldSize):\n",
        "      \n",
        "        # Training classifier for each foldsize traing set\n",
        "        classifier = trainClassifier(dataset_cv[:i]+dataset_cv[foldSize+i:])\n",
        "        \n",
        "        # Predicting for the specified test set for the foldsize\n",
        "        y_pred = predictLabels(dataset_cv[i:i+foldSize],classifier)\n",
        "        \n",
        "        # Measuring accuracy for test set\n",
        "        a = accuracy_score(list(map(lambda d : d[1], dataset_cv[i:i+foldSize])), y_pred)\n",
        "        \n",
        "        # Measuring Precision ,Recall, F1-Score \n",
        "        (p,r,f,_) = precision_recall_fscore_support(list(map(lambda d : d[1], dataset_cv[i:i+foldSize])), y_pred, average ='macro')\n",
        "        cv_results.append((a,p,r,f))\n",
        "    cv_results = (np.mean(np.array(cv_results),axis=0))\n",
        "    return cv_results"
      ],
      "execution_count": 0,
      "outputs": []
    },
    {
      "metadata": {
        "colab_type": "text",
        "id": "30rJKQIX_Z82"
      },
      "cell_type": "markdown",
      "source": [
        "**FUNCTION FOR PREDICTING LABELS FOR TEST SET**"
      ]
    },
    {
      "metadata": {
        "colab_type": "code",
        "id": "UKhTV2ff_Z8s",
        "colab": {}
      },
      "cell_type": "code",
      "source": [
        "def predictLabels(reviewSamples, classifier1):\n",
        "  \n",
        "    # in-line function to map featue to classifier\n",
        "    # Only keeping the features and not taking the labels to the classifier\n",
        "    # t[0]\n",
        "    \n",
        "    return classifier1.classify_many(map(lambda t: t[0], reviewSamples))"
      ],
      "execution_count": 0,
      "outputs": []
    },
    {
      "metadata": {
        "colab_type": "text",
        "id": "3dZoxJZA_Z8r"
      },
      "cell_type": "markdown",
      "source": [
        "**SPLIT FUNCTION IS CALLED FOR ONLY REVIEW AS FEATURE**"
      ]
    },
    {
      "metadata": {
        "colab_type": "code",
        "id": "BOvO204U_Z8m",
        "colab": {}
      },
      "cell_type": "code",
      "source": [
        "split(0.95)\n",
        "\n",
        "## Make sure to input same portion of data in both the split as some function and data are shared by both ##"
      ],
      "execution_count": 0,
      "outputs": []
    },
    {
      "metadata": {
        "colab_type": "text",
        "id": "sWDoATvc_Z8m"
      },
      "cell_type": "markdown",
      "source": [
        "**TRAIN DATA AND TEST DATA **"
      ]
    },
    {
      "metadata": {
        "colab_type": "code",
        "id": "5MVRfkW9_Z8h",
        "colab": {}
      },
      "cell_type": "code",
      "source": [
        "# np.c_ is used to take both data and label as input together\n",
        "\n",
        "TRAIN_MAIN_DATA = np.c_[trainData,trainData_label]\n",
        "TEST_MAIN_DATA = np.c_[testData,testData_label]\n",
        "\n",
        "# converting train and test set in to list form as desired input to classifier is in list form\n",
        "\n",
        "TRAIN_MAIN_DATA = TRAIN_MAIN_DATA.tolist()\n",
        "TEST_MAIN_DATA = TEST_MAIN_DATA.tolist()\n"
      ],
      "execution_count": 0,
      "outputs": []
    },
    {
      "metadata": {
        "colab_type": "text",
        "id": "0Gg4mEJ0_Z8g"
      },
      "cell_type": "markdown",
      "source": [
        "**CROSS-VALIDATE CALLED FOR ONLY REVIEW AS A FEATURE**"
      ]
    },
    {
      "metadata": {
        "colab_type": "code",
        "outputId": "937e0d54-e72e-467c-c8a9-f423173adf78",
        "id": "nMJrEier_Z8a",
        "colab": {
          "base_uri": "https://localhost:8080/",
          "height": 217
        }
      },
      "cell_type": "code",
      "source": [
        "print(\"Mean of cross-validations (Accuracy, Precision, Recall, Fscore): \", crossValidate(TRAIN_MAIN_DATA, 10))"
      ],
      "execution_count": 24,
      "outputs": [
        {
          "output_type": "stream",
          "text": [
            "Training Classifier\n",
            "Training Classifier\n",
            "Training Classifier\n",
            "Training Classifier\n",
            "Training Classifier\n",
            "Training Classifier\n",
            "Training Classifier\n",
            "Training Classifier\n",
            "Training Classifier\n",
            "Training Classifier\n",
            "Mean of cross-validations (Accuracy, Precision, Recall, Fscore):  [0.67754386 0.6775846  0.67759452 0.67745256]\n"
          ],
          "name": "stdout"
        }
      ]
    },
    {
      "metadata": {
        "colab_type": "text",
        "id": "TZeuCM5W_Z8Z"
      },
      "cell_type": "markdown",
      "source": [
        "**TESTING ACCURACY FOR ONLY REVIEW AS FEATURES **"
      ]
    },
    {
      "metadata": {
        "colab_type": "code",
        "outputId": "49e10037-0eae-406a-bbb8-86028eb8b91a",
        "id": "B-cwxzGV_Z8V",
        "colab": {
          "base_uri": "https://localhost:8080/",
          "height": 108
        }
      },
      "cell_type": "code",
      "source": [
        "## Test Accuracy\n",
        "classifier = trainClassifier(TRAIN_MAIN_DATA)\n",
        "predictions = predictLabels(TEST_MAIN_DATA, classifier)\n",
        "true_labels = list(map(lambda d: d[1], TEST_MAIN_DATA))\n",
        "a = accuracy_score(true_labels, predictions)\n",
        "p, r, f1, _ = precision_recall_fscore_support(true_labels, predictions, average='macro')\n",
        "print(\"accuracy: \", a)\n",
        "print(\"Precision: \", p)\n",
        "print(\"Recall: \", r)\n",
        "print(\"f1-score: \", f1)"
      ],
      "execution_count": 25,
      "outputs": [
        {
          "output_type": "stream",
          "text": [
            "Training Classifier\n",
            "accuracy:  0.6752380952380952\n",
            "Precision:  0.6759999999999999\n",
            "Recall:  0.675641690950461\n",
            "f1-score:  0.6751529425854035\n"
          ],
          "name": "stdout"
        }
      ]
    },
    {
      "metadata": {
        "colab_type": "text",
        "id": "wk0h96Xk_Z8V"
      },
      "cell_type": "markdown",
      "source": [
        "**SPLIT FUNCTION CALLED FOR ALL AS FEATURE**"
      ]
    },
    {
      "metadata": {
        "colab_type": "code",
        "id": "XwRifUbM_Z8S",
        "colab": {}
      },
      "cell_type": "code",
      "source": [
        "splitAll(0.95)\n"
      ],
      "execution_count": 0,
      "outputs": []
    },
    {
      "metadata": {
        "colab_type": "text",
        "id": "Gdac3c87_Z8R"
      },
      "cell_type": "markdown",
      "source": [
        "**TRAIN AND TEST FOR ALL FEATURE **"
      ]
    },
    {
      "metadata": {
        "colab_type": "code",
        "outputId": "30e2ab87-62f2-421a-a058-55783b8aeecb",
        "id": "2shSyWhH_Z8N",
        "colab": {
          "base_uri": "https://localhost:8080/",
          "height": 54
        }
      },
      "cell_type": "code",
      "source": [
        "print(len(trainData_labelAll))\n",
        "print(len(trainDataAll))\n"
      ],
      "execution_count": 27,
      "outputs": [
        {
          "output_type": "stream",
          "text": [
            "19950\n",
            "19950\n"
          ],
          "name": "stdout"
        }
      ]
    },
    {
      "metadata": {
        "colab_type": "code",
        "id": "7fWedsF2_Z8K",
        "colab": {}
      },
      "cell_type": "code",
      "source": [
        "# np.c_ is used to concatenate data and label as input together for classifier\n",
        "\n",
        "\n",
        "TRAIN_MAIN_DATA_All=np.c_[trainDataAll,trainData_labelAll]\n",
        "TEST_MAIN_DATA_All=np.c_[testDataAll,testData_labelAll]\n",
        "\n",
        "# converting train and test set in to list form as desired input to classifier is in list form\n",
        "\n",
        "TRAIN_MAIN_DATA_All=TRAIN_MAIN_DATA_All.tolist()\n",
        "TEST_MAIN_DATA_All=TEST_MAIN_DATA_All.tolist()"
      ],
      "execution_count": 0,
      "outputs": []
    },
    {
      "metadata": {
        "colab_type": "text",
        "id": "JExCkOjB_Z8K"
      },
      "cell_type": "markdown",
      "source": [
        "**CROSS-VALIDATE CALLED FOR ALL AS FEATURE**"
      ]
    },
    {
      "metadata": {
        "colab_type": "code",
        "outputId": "d836af6b-267d-414e-8cd4-fce179a227e4",
        "id": "RwQzmJRW_Z8G",
        "colab": {
          "base_uri": "https://localhost:8080/",
          "height": 217
        }
      },
      "cell_type": "code",
      "source": [
        "CV_RES = crossValidate(TRAIN_MAIN_DATA_All, 10)\n",
        "print(\"Mean of cross-validations (Accuracy, Precision, Recall, Fscore): \",CV_RES )"
      ],
      "execution_count": 29,
      "outputs": [
        {
          "output_type": "stream",
          "text": [
            "Training Classifier\n",
            "Training Classifier\n",
            "Training Classifier\n",
            "Training Classifier\n",
            "Training Classifier\n",
            "Training Classifier\n",
            "Training Classifier\n",
            "Training Classifier\n",
            "Training Classifier\n",
            "Training Classifier\n",
            "Mean of cross-validations (Accuracy, Precision, Recall, Fscore):  [0.82130326 0.82270341 0.82122404 0.82100219]\n"
          ],
          "name": "stdout"
        }
      ]
    },
    {
      "metadata": {
        "id": "crxBYmpJARRN",
        "colab_type": "code",
        "colab": {
          "base_uri": "https://localhost:8080/",
          "height": 453
        },
        "outputId": "19d655dc-84a3-41b9-d65a-343e34e7cf03"
      },
      "cell_type": "code",
      "source": [
        "objects = ('Accuracy', 'Precision', 'Recall', 'F1_score')\n",
        "\n",
        "performance = CV_RES\n",
        "bar_width=0.3\n",
        "rects1 = plt.bar(objects, performance,bar_width ,alpha=0.8,color='b',)\n",
        " \n",
        "plt.xticks(objects, objects)\n",
        "plt.ylabel('Score')\n",
        "plt.title('Evaluation 10 fold Cross Validation on Training Dataset ')\n",
        "\n",
        "\n",
        "plt.show()"
      ],
      "execution_count": 30,
      "outputs": [
        {
          "output_type": "display_data",
          "data": {
            "image/png": "[encoded data removed]",
            "text/plain": [
              "<Figure size 640x480 with 1 Axes>"
            ]
          },
          "metadata": {
            "tags": []
          }
        }
      ]
    },
    {
      "metadata": {
        "colab_type": "text",
        "id": "Uk7zlfUg_Z8F"
      },
      "cell_type": "markdown",
      "source": [
        "**TESTING ACCURACY FOR ALL FEATURES **"
      ]
    },
    {
      "metadata": {
        "colab_type": "code",
        "outputId": "ff1bf4d0-a7d0-4ccf-f9e4-9bdaf0ab3720",
        "id": "irPUx58G_Z8B",
        "colab": {
          "base_uri": "https://localhost:8080/",
          "height": 108
        }
      },
      "cell_type": "code",
      "source": [
        "## Test Accuracy\n",
        "classifier_All = trainClassifier(TRAIN_MAIN_DATA_All)\n",
        "predictions_All = predictLabels(TEST_MAIN_DATA_All, classifier_All)\n",
        "true_labels_All = list(map(lambda d: d[1], TEST_MAIN_DATA_All))\n",
        "a_All = accuracy_score(true_labels_All, predictions_All)\n",
        "p_All, r_All, f1_All, _ = precision_recall_fscore_support(true_labels_All, predictions_All, average='macro')\n",
        "print(\"accuracy: \", a_All)\n",
        "print(\"Precision: \", p_All)\n",
        "print(\"Recall: \", r_All)\n",
        "print(\"f1-score: \", f1_All)\n",
        "\n",
        "TEST_RES = [a_All,p_All,r_All,f1_All]"
      ],
      "execution_count": 32,
      "outputs": [
        {
          "output_type": "stream",
          "text": [
            "Training Classifier\n",
            "accuracy:  0.8304761904761905\n",
            "Precision:  0.834233409610984\n",
            "Recall:  0.8312787368314094\n",
            "f1-score:  0.8302045177045176\n"
          ],
          "name": "stdout"
        }
      ]
    },
    {
      "metadata": {
        "id": "-uUPaLdpBMel",
        "colab_type": "text"
      },
      "cell_type": "markdown",
      "source": [
        "**VISUALIZATION OF PREDICTION RESULT ON TEST DATA SET**"
      ]
    },
    {
      "metadata": {
        "id": "4Yumhl6sBJzz",
        "colab_type": "code",
        "colab": {
          "base_uri": "https://localhost:8080/",
          "height": 453
        },
        "outputId": "739830ac-dd65-480f-9aec-ae94428b5914"
      },
      "cell_type": "code",
      "source": [
        "objects = ('Accuracy', 'Precision', 'Recall', 'F1_score')\n",
        "\n",
        "performance = TEST_RES\n",
        "bar_width=0.3\n",
        "rects1 = plt.bar(objects, performance,bar_width ,alpha=0.8,color='b',)\n",
        " \n",
        "\n",
        "plt.xticks(objects, objects)\n",
        "plt.ylabel('Score')\n",
        "plt.title('Evaluation of Test Data ')\n",
        "\n",
        "\n",
        "plt.show()"
      ],
      "execution_count": 33,
      "outputs": [
        {
          "output_type": "display_data",
          "data": {
            "image/png": "[encoded data removed]",
            "text/plain": [
              "<Figure size 640x480 with 1 Axes>"
            ]
          },
          "metadata": {
            "tags": []
          }
        }
      ]
    }
  ]
}